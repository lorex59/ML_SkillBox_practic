{
  "cells": [
    {
      "cell_type": "markdown",
      "metadata": {
        "id": "o6I4n4hwCgV5"
      },
      "source": [
        "# Очистка данных. Практическая работа"
      ]
    },
    {
      "cell_type": "markdown",
      "metadata": {
        "id": "7TcMEEhWCmMs"
      },
      "source": [
        "## Цель практической работы\n",
        "\n",
        "- Научиться выполнять очистку и подготовку данных для их дальнейшего использования в задаче машинного обучения."
      ]
    },
    {
      "cell_type": "markdown",
      "metadata": {
        "id": "X_F8J_bWDsJz"
      },
      "source": [
        "## Что нужно сделать\n",
        "\n",
        "- Загрузить данные в ноутбук.\n",
        "- Провести разведочный анализ данных.\n",
        "- Разделить данные на обучающую и тестовую выборки.\n",
        "- Выполнить очистку и подготовку данных."
      ]
    },
    {
      "cell_type": "markdown",
      "metadata": {
        "id": "K2Db_0pXEqka"
      },
      "source": [
        "## Что оценивается \n",
        "\n",
        "1. Выполнены все этапы задания.\n",
        "1. Не допущены утечки данных."
      ]
    },
    {
      "cell_type": "markdown",
      "metadata": {
        "id": "vwpxmizHGXPE"
      },
      "source": [
        "## Формат сдачи\n",
        "\n",
        "Выполните предложенные задания: впишите свой код в ячейки после комментария `### YOUR CODE HERE ###` и сохраните изменения, используя опцию *Save and Checkpoint* из вкладки меню *File* или кнопку *Save and Checkpoint* на панели инструментов. Итоговый файл в формате `.ipynb` (файл Jupyter Notebook) загрузите в личный кабинет и отправьте на проверку."
      ]
    },
    {
      "cell_type": "markdown",
      "metadata": {
        "id": "CUhKZgVsFEkk"
      },
      "source": [
        "## Задача\n",
        "Имеется набор данных покупателей супермаркета. Проведите анализ и очистку этих данных."
      ]
    },
    {
      "cell_type": "markdown",
      "metadata": {
        "id": "MMergpE8Fj8-"
      },
      "source": [
        "### Описание данных\n",
        "\n",
        "Дан файл Mall_Customers.csv, содержащий следующие данные по покупателям сети супермаркетов:\n",
        "- CustomerID — идентификатор покупателя.\n",
        "- Genre – пол покупателя.\n",
        "- Age – возраст покупателя.\n",
        "- Annual Income (k\\$) – годовой доход покупателя, тысяч $.\n",
        "- Spending Score (1–100) – рейтинг покупателя, целевая переменная."
      ]
    },
    {
      "cell_type": "markdown",
      "metadata": {
        "id": "9pfNcyY_FoV7"
      },
      "source": [
        "### Задание 1\n",
        "\n",
        "Загрузите данные из файла `Mall_Customers.csv` в ноутбук и выведите первые пять строк на экран."
      ]
    },
    {
      "cell_type": "code",
      "execution_count": 100,
      "metadata": {
        "id": "9Q82jW1UCjGi"
      },
      "outputs": [],
      "source": [
        "### YOUR CODE HERE ###\n",
        "import pandas as pd\n",
        "df = pd.read_csv('Mall_Customers.csv', index_col='CustomerID')"
      ]
    },
    {
      "cell_type": "code",
      "execution_count": 101,
      "metadata": {},
      "outputs": [
        {
          "data": {
            "text/html": [
              "<div>\n",
              "<style scoped>\n",
              "    .dataframe tbody tr th:only-of-type {\n",
              "        vertical-align: middle;\n",
              "    }\n",
              "\n",
              "    .dataframe tbody tr th {\n",
              "        vertical-align: top;\n",
              "    }\n",
              "\n",
              "    .dataframe thead th {\n",
              "        text-align: right;\n",
              "    }\n",
              "</style>\n",
              "<table border=\"1\" class=\"dataframe\">\n",
              "  <thead>\n",
              "    <tr style=\"text-align: right;\">\n",
              "      <th></th>\n",
              "      <th>Genre</th>\n",
              "      <th>Age</th>\n",
              "      <th>Annual Income (k$)</th>\n",
              "      <th>Spending Score (1-100)</th>\n",
              "    </tr>\n",
              "    <tr>\n",
              "      <th>CustomerID</th>\n",
              "      <th></th>\n",
              "      <th></th>\n",
              "      <th></th>\n",
              "      <th></th>\n",
              "    </tr>\n",
              "  </thead>\n",
              "  <tbody>\n",
              "    <tr>\n",
              "      <th>1</th>\n",
              "      <td>Male</td>\n",
              "      <td>19.0</td>\n",
              "      <td>15.0</td>\n",
              "      <td>39</td>\n",
              "    </tr>\n",
              "    <tr>\n",
              "      <th>2</th>\n",
              "      <td>Male</td>\n",
              "      <td>NaN</td>\n",
              "      <td>NaN</td>\n",
              "      <td>81</td>\n",
              "    </tr>\n",
              "    <tr>\n",
              "      <th>3</th>\n",
              "      <td>Female</td>\n",
              "      <td>NaN</td>\n",
              "      <td>16.0</td>\n",
              "      <td>6</td>\n",
              "    </tr>\n",
              "    <tr>\n",
              "      <th>4</th>\n",
              "      <td>Female</td>\n",
              "      <td>23.0</td>\n",
              "      <td>16.0</td>\n",
              "      <td>77</td>\n",
              "    </tr>\n",
              "    <tr>\n",
              "      <th>5</th>\n",
              "      <td>Female</td>\n",
              "      <td>31.0</td>\n",
              "      <td>17.0</td>\n",
              "      <td>40</td>\n",
              "    </tr>\n",
              "  </tbody>\n",
              "</table>\n",
              "</div>"
            ],
            "text/plain": [
              "             Genre   Age  Annual Income (k$)  Spending Score (1-100)\n",
              "CustomerID                                                          \n",
              "1             Male  19.0                15.0                      39\n",
              "2             Male   NaN                 NaN                      81\n",
              "3           Female   NaN                16.0                       6\n",
              "4           Female  23.0                16.0                      77\n",
              "5           Female  31.0                17.0                      40"
            ]
          },
          "execution_count": 101,
          "metadata": {},
          "output_type": "execute_result"
        }
      ],
      "source": [
        "df.head()"
      ]
    },
    {
      "cell_type": "markdown",
      "metadata": {
        "id": "dZ6Tm3koGft2"
      },
      "source": [
        "### Задание 2\n",
        "\n",
        "Проведите разведочный анализ загруженных данных. Обязательные атрибуты для анализа:\n",
        "- количество пропусков в каждом признаке;\n",
        "- распределения признаков;\n",
        "- возможные выбросы или аномалии.\n",
        "\n",
        "Анализ дополнительных атрибутов и свойств данных приветствуется. Используйте средства визуализации там, где это необходимо.\n",
        "\n",
        "По результатам анализа сделайте выводы о свойствах отдельных признаков и качестве данных в целом."
      ]
    },
    {
      "cell_type": "code",
      "execution_count": 102,
      "metadata": {
        "id": "zczQG5MoHulI"
      },
      "outputs": [
        {
          "name": "stdout",
          "output_type": "stream",
          "text": [
            "Genre                     0.095\n",
            "Age                       0.100\n",
            "Annual Income (k$)        0.100\n",
            "Spending Score (1-100)    0.000\n",
            "dtype: float64\n"
          ]
        }
      ],
      "source": [
        "### YOUR CODE HERE ###\n",
        "import numpy as np\n",
        "import matplotlib.pyplot as plt\n",
        "import seaborn as sns\n",
        "# Количество пропусков в каждом признаке\n",
        "print(df.isnull().sum() / df.shape[0])\n",
        "\n"
      ]
    },
    {
      "cell_type": "code",
      "execution_count": 103,
      "metadata": {},
      "outputs": [
        {
          "name": "stdout",
          "output_type": "stream",
          "text": [
            "<class 'pandas.core.frame.DataFrame'>\n",
            "Index: 200 entries, 1 to 200\n",
            "Data columns (total 4 columns):\n",
            " #   Column                  Non-Null Count  Dtype  \n",
            "---  ------                  --------------  -----  \n",
            " 0   Genre                   181 non-null    object \n",
            " 1   Age                     180 non-null    float64\n",
            " 2   Annual Income (k$)      180 non-null    float64\n",
            " 3   Spending Score (1-100)  200 non-null    int64  \n",
            "dtypes: float64(2), int64(1), object(1)\n",
            "memory usage: 7.8+ KB\n"
          ]
        }
      ],
      "source": [
        "df.info()"
      ]
    },
    {
      "cell_type": "code",
      "execution_count": 104,
      "metadata": {},
      "outputs": [
        {
          "data": {
            "text/html": [
              "<div>\n",
              "<style scoped>\n",
              "    .dataframe tbody tr th:only-of-type {\n",
              "        vertical-align: middle;\n",
              "    }\n",
              "\n",
              "    .dataframe tbody tr th {\n",
              "        vertical-align: top;\n",
              "    }\n",
              "\n",
              "    .dataframe thead th {\n",
              "        text-align: right;\n",
              "    }\n",
              "</style>\n",
              "<table border=\"1\" class=\"dataframe\">\n",
              "  <thead>\n",
              "    <tr style=\"text-align: right;\">\n",
              "      <th></th>\n",
              "      <th>Age</th>\n",
              "      <th>Annual Income (k$)</th>\n",
              "      <th>Spending Score (1-100)</th>\n",
              "    </tr>\n",
              "  </thead>\n",
              "  <tbody>\n",
              "    <tr>\n",
              "      <th>count</th>\n",
              "      <td>180.000000</td>\n",
              "      <td>180.000000</td>\n",
              "      <td>200.000000</td>\n",
              "    </tr>\n",
              "    <tr>\n",
              "      <th>mean</th>\n",
              "      <td>39.894444</td>\n",
              "      <td>5615.433333</td>\n",
              "      <td>50.200000</td>\n",
              "    </tr>\n",
              "    <tr>\n",
              "      <th>std</th>\n",
              "      <td>16.842848</td>\n",
              "      <td>74531.115872</td>\n",
              "      <td>25.823522</td>\n",
              "    </tr>\n",
              "    <tr>\n",
              "      <th>min</th>\n",
              "      <td>18.000000</td>\n",
              "      <td>15.000000</td>\n",
              "      <td>1.000000</td>\n",
              "    </tr>\n",
              "    <tr>\n",
              "      <th>25%</th>\n",
              "      <td>29.000000</td>\n",
              "      <td>42.000000</td>\n",
              "      <td>34.750000</td>\n",
              "    </tr>\n",
              "    <tr>\n",
              "      <th>50%</th>\n",
              "      <td>36.000000</td>\n",
              "      <td>61.000000</td>\n",
              "      <td>50.000000</td>\n",
              "    </tr>\n",
              "    <tr>\n",
              "      <th>75%</th>\n",
              "      <td>49.000000</td>\n",
              "      <td>78.000000</td>\n",
              "      <td>73.000000</td>\n",
              "    </tr>\n",
              "    <tr>\n",
              "      <th>max</th>\n",
              "      <td>135.000000</td>\n",
              "      <td>1000000.000000</td>\n",
              "      <td>99.000000</td>\n",
              "    </tr>\n",
              "  </tbody>\n",
              "</table>\n",
              "</div>"
            ],
            "text/plain": [
              "              Age  Annual Income (k$)  Spending Score (1-100)\n",
              "count  180.000000          180.000000              200.000000\n",
              "mean    39.894444         5615.433333               50.200000\n",
              "std     16.842848        74531.115872               25.823522\n",
              "min     18.000000           15.000000                1.000000\n",
              "25%     29.000000           42.000000               34.750000\n",
              "50%     36.000000           61.000000               50.000000\n",
              "75%     49.000000           78.000000               73.000000\n",
              "max    135.000000      1000000.000000               99.000000"
            ]
          },
          "execution_count": 104,
          "metadata": {},
          "output_type": "execute_result"
        }
      ],
      "source": [
        "df.describe()"
      ]
    },
    {
      "cell_type": "code",
      "execution_count": 105,
      "metadata": {},
      "outputs": [
        {
          "data": {
            "image/png": "[encoded data removed]",
            "text/plain": [
              "<Figure size 1000x1000 with 4 Axes>"
            ]
          },
          "metadata": {},
          "output_type": "display_data"
        },
        {
          "data": {
            "image/png": "[encoded data removed]",
            "text/plain": [
              "<Figure size 640x480 with 2 Axes>"
            ]
          },
          "metadata": {},
          "output_type": "display_data"
        }
      ],
      "source": [
        "# Распределения признаков\n",
        "df.hist(figsize=(10, 10))\n",
        "plt.show()\n",
        "\n",
        "# Корреляционная матрица\n",
        "corr_matrix = df.corr(numeric_only=True)\n",
        "sns.heatmap(corr_matrix, annot=True, cmap='coolwarm')\n",
        "plt.show()\n"
      ]
    },
    {
      "cell_type": "markdown",
      "metadata": {},
      "source": [
        "Видны выбросы в Age и аномальные значения в Annual Income\n",
        "\n",
        "В среднем пропущено в каждом столбце 10%"
      ]
    },
    {
      "cell_type": "markdown",
      "metadata": {
        "id": "f2D8MlDlHvL4"
      },
      "source": [
        "### Задание 3\n",
        "\n",
        "Разделите данные на обучающую и тестовую выборки в пропорции 80:20. Здесь и далее используйте random_state = 1."
      ]
    },
    {
      "cell_type": "code",
      "execution_count": 106,
      "metadata": {
        "id": "7YwL8vOzICNY"
      },
      "outputs": [],
      "source": [
        "### YOUR CODE HERE ###\n",
        "from sklearn.model_selection import train_test_split\n",
        "\n",
        "target = 'Spending Score (1-100)'\n",
        "X = df.drop(target, axis=1)  \n",
        "y = df[target]  \n",
        "\n",
        "X_train, X_test, y_train, y_test = train_test_split(X, y, test_size=0.2, random_state=1)"
      ]
    },
    {
      "cell_type": "markdown",
      "metadata": {
        "id": "pmzNU3XqICuX"
      },
      "source": [
        "### Задание 4\n",
        "\n",
        "Заполните пропуски в признаках в обучающей выборке с использованием инструментов sklearn. Для каждого признака выберите и аргументируйте стратегию заполнения пропусков."
      ]
    },
    {
      "cell_type": "code",
      "execution_count": 107,
      "metadata": {
        "id": "wM-cN8q8IZVe"
      },
      "outputs": [
        {
          "name": "stdout",
          "output_type": "stream",
          "text": [
            "<class 'pandas.core.frame.DataFrame'>\n",
            "Index: 160 entries, 109 to 38\n",
            "Data columns (total 3 columns):\n",
            " #   Column              Non-Null Count  Dtype  \n",
            "---  ------              --------------  -----  \n",
            " 0   Genre               160 non-null    object \n",
            " 1   Age                 160 non-null    float64\n",
            " 2   Annual Income (k$)  160 non-null    float64\n",
            "dtypes: float64(2), object(1)\n",
            "memory usage: 5.0+ KB\n",
            "None\n"
          ]
        }
      ],
      "source": [
        "### YOUR CODE HERE ###\n",
        "import pandas as pd\n",
        "from sklearn.impute import SimpleImputer\n",
        "\n",
        "imputer_genre = SimpleImputer(strategy='most_frequent')\n",
        "X_train['Genre'] = imputer_genre.fit_transform(X_train[['Genre']]).reshape(-1)\n",
        "imputer_age = SimpleImputer(strategy='mean')\n",
        "X_train['Age'] = imputer_age.fit_transform(X_train[['Age']])\n",
        "\n",
        "imputer_income = SimpleImputer(strategy='mean')\n",
        "X_train['Annual Income (k$)'] = imputer_income.fit_transform(X_train[['Annual Income (k$)']])\n",
        "\n",
        "print(X_train.info())"
      ]
    },
    {
      "cell_type": "markdown",
      "metadata": {
        "id": "dG06N3kJIZ9A"
      },
      "source": [
        "### Задание 5\n",
        "\n",
        "Найдите выбросы в признаках обучающей выборки. Замените выбросы, если таковые имеются, и аргументируйте выбор метода поиска выбросов.\n"
      ]
    },
    {
      "cell_type": "code",
      "execution_count": 108,
      "metadata": {
        "id": "TTcePy4bI1ab"
      },
      "outputs": [
        {
          "data": {
            "image/png": "[encoded data removed]",
            "text/plain": [
              "<Figure size 640x480 with 1 Axes>"
            ]
          },
          "metadata": {},
          "output_type": "display_data"
        },
        {
          "data": {
            "image/png": "[encoded data removed]",
            "text/plain": [
              "<Figure size 640x480 with 1 Axes>"
            ]
          },
          "metadata": {},
          "output_type": "display_data"
        }
      ],
      "source": [
        "### YOUR CODE HERE ###\n",
        "\n",
        "# plt.figure(figsize=(10, 6))\n",
        "# sns.boxplot(data=X_train, orient=\"h\")\n",
        "\n",
        "# # show the plot\n",
        "# plt.show()\n",
        "numerical_columns = ['Age', 'Annual Income (k$)']\n",
        "for col in numerical_columns:\n",
        "    sns.boxplot(data=X_train[col])\n",
        "    plt.show()"
      ]
    },
    {
      "cell_type": "code",
      "execution_count": 109,
      "metadata": {},
      "outputs": [
        {
          "data": {
            "text/plain": [
              "<Axes: xlabel='Age', ylabel='Annual Income (k$)'>"
            ]
          },
          "execution_count": 109,
          "metadata": {},
          "output_type": "execute_result"
        },
        {
          "data": {
            "image/png": "[encoded data removed]",
            "text/plain": [
              "<Figure size 640x480 with 1 Axes>"
            ]
          },
          "metadata": {},
          "output_type": "display_data"
        }
      ],
      "source": [
        "sns.scatterplot(x=X_train[numerical_columns[0]], y=X_train[numerical_columns[1]])"
      ]
    },
    {
      "cell_type": "code",
      "execution_count": 119,
      "metadata": {},
      "outputs": [],
      "source": [
        "# У нас всего 2 явно выраженных выброса, поэтому просто удалим их (возраст > 100 и доход 1e6)\n",
        "import numpy as np\n",
        "import pandas as pd\n",
        "import seaborn as sns\n",
        "import matplotlib.pyplot as plt\n",
        "\n",
        "X_train = X_train[X_train[\"Age\"] <= 100]\n",
        "X_train = X_train[X_train['Annual Income (k$)']<= 10**4]\n"
      ]
    },
    {
      "cell_type": "markdown",
      "metadata": {
        "id": "4iZFKDQ7I2LZ"
      },
      "source": [
        "### Задание 6\n",
        "\n",
        "Нормализуйте численные признаки. Аргументируйте выбор стратегии нормализации для каждого признака.\n"
      ]
    },
    {
      "cell_type": "code",
      "execution_count": 111,
      "metadata": {
        "id": "gSLKHnlYI-bf"
      },
      "outputs": [],
      "source": [
        "### YOUR CODE HERE ###\n",
        "from sklearn.preprocessing import StandardScaler\n",
        "from sklearn.preprocessing import MinMaxScaler\n",
        "\n",
        "\n",
        "scaler_age = StandardScaler()\n",
        "X_train['Age'] = scaler_age.fit_transform(X_train[['Age']])\n",
        "\n",
        "\n",
        "scaler_income = MinMaxScaler()\n",
        "X_train['Annual Income (k$)'] = scaler_income.fit_transform(X_train[['Annual Income (k$)']])"
      ]
    },
    {
      "cell_type": "markdown",
      "metadata": {
        "id": "MwEFsRNnI_Ar"
      },
      "source": [
        "### Задание 7\n",
        "\n",
        "Закодируйте категориальные признаки в обучающей выборке. Аргументируйте выбор способа кодирования."
      ]
    },
    {
      "cell_type": "code",
      "execution_count": 122,
      "metadata": {
        "id": "Ypo6y1iMJHeL"
      },
      "outputs": [],
      "source": [
        "### YOUR CODE HERE ###\n",
        "from sklearn.preprocessing import LabelEncoder\n",
        "\n",
        "le_gender = LabelEncoder()\n",
        "X_train['Genre'] = le_gender.fit_transform(X_train['Genre'])"
      ]
    },
    {
      "cell_type": "markdown",
      "metadata": {
        "id": "mT9hsPltJJ2z"
      },
      "source": [
        "### Задание 8\n",
        "Проведите очистку и подготовку тестовых данных. Используйте препроцессоры и другие инструменты, которые вы уже использовали при подготовке обучающей выборки, без их дополнительной настройки."
      ]
    },
    {
      "cell_type": "code",
      "execution_count": 124,
      "metadata": {
        "id": "swiT9IQlziSs"
      },
      "outputs": [],
      "source": [
        "### YOUR CODE HERE ###\n",
        "\n",
        "X_test['Genre'] = imputer_genre.transform(X_test[['Genre']]).reshape(-1)\n",
        "X_test['Age'] = imputer_age.transform(X_test[['Age']])\n",
        "\n",
        "X_test['Annual Income (k$)'] = imputer_income.transform(X_test[['Annual Income (k$)']])\n",
        "\n",
        "\n",
        "X_test['Age'] = scaler_age.transform(X_test[['Age']])\n",
        "\n",
        "X_test['Annual Income (k$)'] = scaler_income.transform(X_test[['Annual Income (k$)']])\n",
        "X_test['Genre'] = le_gender.transform(X_test['Genre'])"
      ]
    },
    {
      "cell_type": "code",
      "execution_count": 125,
      "metadata": {},
      "outputs": [
        {
          "data": {
            "text/html": [
              "<div>\n",
              "<style scoped>\n",
              "    .dataframe tbody tr th:only-of-type {\n",
              "        vertical-align: middle;\n",
              "    }\n",
              "\n",
              "    .dataframe tbody tr th {\n",
              "        vertical-align: top;\n",
              "    }\n",
              "\n",
              "    .dataframe thead th {\n",
              "        text-align: right;\n",
              "    }\n",
              "</style>\n",
              "<table border=\"1\" class=\"dataframe\">\n",
              "  <thead>\n",
              "    <tr style=\"text-align: right;\">\n",
              "      <th></th>\n",
              "      <th>Genre</th>\n",
              "      <th>Age</th>\n",
              "      <th>Annual Income (k$)</th>\n",
              "    </tr>\n",
              "    <tr>\n",
              "      <th>CustomerID</th>\n",
              "      <th></th>\n",
              "      <th></th>\n",
              "      <th></th>\n",
              "    </tr>\n",
              "  </thead>\n",
              "  <tbody>\n",
              "    <tr>\n",
              "      <th>59</th>\n",
              "      <td>1</td>\n",
              "      <td>-2.418916</td>\n",
              "      <td>-0.000015</td>\n",
              "    </tr>\n",
              "    <tr>\n",
              "      <th>41</th>\n",
              "      <td>1</td>\n",
              "      <td>-2.283975</td>\n",
              "      <td>-0.000015</td>\n",
              "    </tr>\n",
              "    <tr>\n",
              "      <th>35</th>\n",
              "      <td>0</td>\n",
              "      <td>-2.340792</td>\n",
              "      <td>-0.000015</td>\n",
              "    </tr>\n",
              "    <tr>\n",
              "      <th>103</th>\n",
              "      <td>2</td>\n",
              "      <td>-2.276872</td>\n",
              "      <td>-0.000015</td>\n",
              "    </tr>\n",
              "    <tr>\n",
              "      <th>185</th>\n",
              "      <td>1</td>\n",
              "      <td>-2.369201</td>\n",
              "      <td>-0.000015</td>\n",
              "    </tr>\n",
              "  </tbody>\n",
              "</table>\n",
              "</div>"
            ],
            "text/plain": [
              "            Genre       Age  Annual Income (k$)\n",
              "CustomerID                                     \n",
              "59              1 -2.418916           -0.000015\n",
              "41              1 -2.283975           -0.000015\n",
              "35              0 -2.340792           -0.000015\n",
              "103             2 -2.276872           -0.000015\n",
              "185             1 -2.369201           -0.000015"
            ]
          },
          "execution_count": 125,
          "metadata": {},
          "output_type": "execute_result"
        }
      ],
      "source": [
        "X_test.head()"
      ]
    }
  ],
  "metadata": {
    "colab": {
      "provenance": []
    },
    "gpuClass": "standard",
    "kernelspec": {
      "display_name": "Python 3",
      "name": "python3"
    },
    "language_info": {
      "codemirror_mode": {
        "name": "ipython",
        "version": 3
      },
      "file_extension": ".py",
      "mimetype": "text/x-python",
      "name": "python",
      "nbconvert_exporter": "python",
      "pygments_lexer": "ipython3",
      "version": "3.12.2"
    }
  },
  "nbformat": 4,
  "nbformat_minor": 0
}
