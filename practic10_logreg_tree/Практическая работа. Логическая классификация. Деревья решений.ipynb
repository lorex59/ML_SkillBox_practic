{
  "cells": [
    {
      "cell_type": "markdown",
      "metadata": {
        "id": "L1fRxjzMn2mu"
      },
      "source": [
        "## Цели практической работы\n",
        "\n",
        "* Изучить и предобработать данные в задаче оттока.\n",
        "\n",
        "* Научиться применять для решения задачи решающие деревья и оценивать результаты модели."
      ]
    },
    {
      "cell_type": "markdown",
      "metadata": {
        "id": "_JPkpafooKR-"
      },
      "source": [
        "## Что входит в практическую работу\n",
        "\n",
        "*  Загрузка и предобработка данных.\n",
        "*  Применение и настройка линейных моделей.\n",
        "*  Применение и настройка решающего дерева.\n",
        "*  Сравнение моделей.\n",
        "*  Оценка важности признаков."
      ]
    },
    {
      "cell_type": "markdown",
      "metadata": {
        "id": "-MxI_5C0Hu7G"
      },
      "source": [
        "## Что оценивается\n",
        "\n",
        "Выполнены все задания ноутбука (заполнены пустые ячейки, даны ответы на вопросы)."
      ]
    },
    {
      "cell_type": "markdown",
      "metadata": {
        "id": "0-tRk6fdxmB-"
      },
      "source": [
        "## Что нужно сделать\n",
        "Решите задачу классификации оттоковых клиентов телекома: для каждого клиента необходимо определить, перестанет он пользоваться услугами оператора в ближайшее время или нет."
      ]
    },
    {
      "cell_type": "code",
      "execution_count": 44,
      "metadata": {
        "colab": {
          "base_uri": "https://localhost:8080/",
          "height": 305
        },
        "id": "DIjF1xlpwOMd",
        "outputId": "98c7d62d-0849-4702-8d98-1406e20f59b7"
      },
      "outputs": [
        {
          "data": {
            "text/html": [
              "<div>\n",
              "<style scoped>\n",
              "    .dataframe tbody tr th:only-of-type {\n",
              "        vertical-align: middle;\n",
              "    }\n",
              "\n",
              "    .dataframe tbody tr th {\n",
              "        vertical-align: top;\n",
              "    }\n",
              "\n",
              "    .dataframe thead th {\n",
              "        text-align: right;\n",
              "    }\n",
              "</style>\n",
              "<table border=\"1\" class=\"dataframe\">\n",
              "  <thead>\n",
              "    <tr style=\"text-align: right;\">\n",
              "      <th></th>\n",
              "      <th>State</th>\n",
              "      <th>Account length</th>\n",
              "      <th>Area code</th>\n",
              "      <th>International plan</th>\n",
              "      <th>Voice mail plan</th>\n",
              "      <th>Number vmail messages</th>\n",
              "      <th>Total day minutes</th>\n",
              "      <th>Total day calls</th>\n",
              "      <th>Total day charge</th>\n",
              "      <th>Total eve minutes</th>\n",
              "      <th>Total eve calls</th>\n",
              "      <th>Total eve charge</th>\n",
              "      <th>Total night minutes</th>\n",
              "      <th>Total night calls</th>\n",
              "      <th>Total night charge</th>\n",
              "      <th>Total intl minutes</th>\n",
              "      <th>Total intl calls</th>\n",
              "      <th>Total intl charge</th>\n",
              "      <th>Customer service calls</th>\n",
              "      <th>Churn</th>\n",
              "    </tr>\n",
              "  </thead>\n",
              "  <tbody>\n",
              "    <tr>\n",
              "      <th>0</th>\n",
              "      <td>KS</td>\n",
              "      <td>128</td>\n",
              "      <td>415</td>\n",
              "      <td>No</td>\n",
              "      <td>Yes</td>\n",
              "      <td>25</td>\n",
              "      <td>265.1</td>\n",
              "      <td>110</td>\n",
              "      <td>45.07</td>\n",
              "      <td>197.4</td>\n",
              "      <td>99</td>\n",
              "      <td>16.78</td>\n",
              "      <td>244.7</td>\n",
              "      <td>91</td>\n",
              "      <td>11.01</td>\n",
              "      <td>10.0</td>\n",
              "      <td>3</td>\n",
              "      <td>2.70</td>\n",
              "      <td>1</td>\n",
              "      <td>False</td>\n",
              "    </tr>\n",
              "    <tr>\n",
              "      <th>1</th>\n",
              "      <td>OH</td>\n",
              "      <td>107</td>\n",
              "      <td>415</td>\n",
              "      <td>No</td>\n",
              "      <td>Yes</td>\n",
              "      <td>26</td>\n",
              "      <td>161.6</td>\n",
              "      <td>123</td>\n",
              "      <td>27.47</td>\n",
              "      <td>195.5</td>\n",
              "      <td>103</td>\n",
              "      <td>16.62</td>\n",
              "      <td>254.4</td>\n",
              "      <td>103</td>\n",
              "      <td>11.45</td>\n",
              "      <td>13.7</td>\n",
              "      <td>3</td>\n",
              "      <td>3.70</td>\n",
              "      <td>1</td>\n",
              "      <td>False</td>\n",
              "    </tr>\n",
              "    <tr>\n",
              "      <th>2</th>\n",
              "      <td>NJ</td>\n",
              "      <td>137</td>\n",
              "      <td>415</td>\n",
              "      <td>No</td>\n",
              "      <td>No</td>\n",
              "      <td>0</td>\n",
              "      <td>243.4</td>\n",
              "      <td>114</td>\n",
              "      <td>41.38</td>\n",
              "      <td>121.2</td>\n",
              "      <td>110</td>\n",
              "      <td>10.30</td>\n",
              "      <td>162.6</td>\n",
              "      <td>104</td>\n",
              "      <td>7.32</td>\n",
              "      <td>12.2</td>\n",
              "      <td>5</td>\n",
              "      <td>3.29</td>\n",
              "      <td>0</td>\n",
              "      <td>False</td>\n",
              "    </tr>\n",
              "    <tr>\n",
              "      <th>3</th>\n",
              "      <td>OH</td>\n",
              "      <td>84</td>\n",
              "      <td>408</td>\n",
              "      <td>Yes</td>\n",
              "      <td>No</td>\n",
              "      <td>0</td>\n",
              "      <td>299.4</td>\n",
              "      <td>71</td>\n",
              "      <td>50.90</td>\n",
              "      <td>61.9</td>\n",
              "      <td>88</td>\n",
              "      <td>5.26</td>\n",
              "      <td>196.9</td>\n",
              "      <td>89</td>\n",
              "      <td>8.86</td>\n",
              "      <td>6.6</td>\n",
              "      <td>7</td>\n",
              "      <td>1.78</td>\n",
              "      <td>2</td>\n",
              "      <td>False</td>\n",
              "    </tr>\n",
              "    <tr>\n",
              "      <th>4</th>\n",
              "      <td>OK</td>\n",
              "      <td>75</td>\n",
              "      <td>415</td>\n",
              "      <td>Yes</td>\n",
              "      <td>No</td>\n",
              "      <td>0</td>\n",
              "      <td>166.7</td>\n",
              "      <td>113</td>\n",
              "      <td>28.34</td>\n",
              "      <td>148.3</td>\n",
              "      <td>122</td>\n",
              "      <td>12.61</td>\n",
              "      <td>186.9</td>\n",
              "      <td>121</td>\n",
              "      <td>8.41</td>\n",
              "      <td>10.1</td>\n",
              "      <td>3</td>\n",
              "      <td>2.73</td>\n",
              "      <td>3</td>\n",
              "      <td>False</td>\n",
              "    </tr>\n",
              "  </tbody>\n",
              "</table>\n",
              "</div>"
            ],
            "text/plain": [
              "  State  Account length  Area code International plan Voice mail plan  \\\n",
              "0    KS             128        415                 No             Yes   \n",
              "1    OH             107        415                 No             Yes   \n",
              "2    NJ             137        415                 No              No   \n",
              "3    OH              84        408                Yes              No   \n",
              "4    OK              75        415                Yes              No   \n",
              "\n",
              "   Number vmail messages  Total day minutes  Total day calls  \\\n",
              "0                     25              265.1              110   \n",
              "1                     26              161.6              123   \n",
              "2                      0              243.4              114   \n",
              "3                      0              299.4               71   \n",
              "4                      0              166.7              113   \n",
              "\n",
              "   Total day charge  Total eve minutes  Total eve calls  Total eve charge  \\\n",
              "0             45.07              197.4               99             16.78   \n",
              "1             27.47              195.5              103             16.62   \n",
              "2             41.38              121.2              110             10.30   \n",
              "3             50.90               61.9               88              5.26   \n",
              "4             28.34              148.3              122             12.61   \n",
              "\n",
              "   Total night minutes  Total night calls  Total night charge  \\\n",
              "0                244.7                 91               11.01   \n",
              "1                254.4                103               11.45   \n",
              "2                162.6                104                7.32   \n",
              "3                196.9                 89                8.86   \n",
              "4                186.9                121                8.41   \n",
              "\n",
              "   Total intl minutes  Total intl calls  Total intl charge  \\\n",
              "0                10.0                 3               2.70   \n",
              "1                13.7                 3               3.70   \n",
              "2                12.2                 5               3.29   \n",
              "3                 6.6                 7               1.78   \n",
              "4                10.1                 3               2.73   \n",
              "\n",
              "   Customer service calls  Churn  \n",
              "0                       1  False  \n",
              "1                       1  False  \n",
              "2                       0  False  \n",
              "3                       2  False  \n",
              "4                       3  False  "
            ]
          },
          "execution_count": 44,
          "metadata": {},
          "output_type": "execute_result"
        }
      ],
      "source": [
        "import pandas as pd\n",
        "import numpy as np\n",
        "\n",
        "df = pd.read_csv(\"telecom_churn.csv\")\n",
        "df.head()"
      ]
    },
    {
      "cell_type": "markdown",
      "metadata": {
        "id": "MT5L6lWZyDkE"
      },
      "source": [
        "Сделайте первичную обработку данных:\n",
        "\n",
        "1. Выбросите колонку State.\n",
        "\n",
        "2. Колонки International plan и Voice mail plan закодируйте следующим образом: Yes замените на 1, а No на 0.\n",
        "\n",
        "3. Переведите целевую переменную (Churn) в числа: True в 1, а False в 0."
      ]
    },
    {
      "cell_type": "code",
      "execution_count": 45,
      "metadata": {
        "id": "7U6J16EVx0iy"
      },
      "outputs": [],
      "source": [
        "# ваш код здесь\n",
        "\n",
        "dict_map = {'Yes': 1, \"No\": 0}\n",
        "df = df.drop('State', axis=1)\n",
        "df['International plan'] =df['International plan'].map(dict_map)\n",
        "df['Voice mail plan'] = df['Voice mail plan'].map(dict_map)\n",
        "df['Churn'] = df['Churn'].astype(int)"
      ]
    },
    {
      "cell_type": "markdown",
      "metadata": {
        "id": "N2hAu7tmy0Ps"
      },
      "source": [
        "Выведите на экран первые строки изменённой таблицы, чтобы проверить, что все преобразования сработали."
      ]
    },
    {
      "cell_type": "code",
      "execution_count": 46,
      "metadata": {
        "id": "lG9oOv0uydW8"
      },
      "outputs": [
        {
          "data": {
            "text/html": [
              "<div>\n",
              "<style scoped>\n",
              "    .dataframe tbody tr th:only-of-type {\n",
              "        vertical-align: middle;\n",
              "    }\n",
              "\n",
              "    .dataframe tbody tr th {\n",
              "        vertical-align: top;\n",
              "    }\n",
              "\n",
              "    .dataframe thead th {\n",
              "        text-align: right;\n",
              "    }\n",
              "</style>\n",
              "<table border=\"1\" class=\"dataframe\">\n",
              "  <thead>\n",
              "    <tr style=\"text-align: right;\">\n",
              "      <th></th>\n",
              "      <th>Account length</th>\n",
              "      <th>Area code</th>\n",
              "      <th>International plan</th>\n",
              "      <th>Voice mail plan</th>\n",
              "      <th>Number vmail messages</th>\n",
              "      <th>Total day minutes</th>\n",
              "      <th>Total day calls</th>\n",
              "      <th>Total day charge</th>\n",
              "      <th>Total eve minutes</th>\n",
              "      <th>Total eve calls</th>\n",
              "      <th>Total eve charge</th>\n",
              "      <th>Total night minutes</th>\n",
              "      <th>Total night calls</th>\n",
              "      <th>Total night charge</th>\n",
              "      <th>Total intl minutes</th>\n",
              "      <th>Total intl calls</th>\n",
              "      <th>Total intl charge</th>\n",
              "      <th>Customer service calls</th>\n",
              "      <th>Churn</th>\n",
              "    </tr>\n",
              "  </thead>\n",
              "  <tbody>\n",
              "    <tr>\n",
              "      <th>0</th>\n",
              "      <td>128</td>\n",
              "      <td>415</td>\n",
              "      <td>0</td>\n",
              "      <td>1</td>\n",
              "      <td>25</td>\n",
              "      <td>265.1</td>\n",
              "      <td>110</td>\n",
              "      <td>45.07</td>\n",
              "      <td>197.4</td>\n",
              "      <td>99</td>\n",
              "      <td>16.78</td>\n",
              "      <td>244.7</td>\n",
              "      <td>91</td>\n",
              "      <td>11.01</td>\n",
              "      <td>10.0</td>\n",
              "      <td>3</td>\n",
              "      <td>2.70</td>\n",
              "      <td>1</td>\n",
              "      <td>0</td>\n",
              "    </tr>\n",
              "    <tr>\n",
              "      <th>1</th>\n",
              "      <td>107</td>\n",
              "      <td>415</td>\n",
              "      <td>0</td>\n",
              "      <td>1</td>\n",
              "      <td>26</td>\n",
              "      <td>161.6</td>\n",
              "      <td>123</td>\n",
              "      <td>27.47</td>\n",
              "      <td>195.5</td>\n",
              "      <td>103</td>\n",
              "      <td>16.62</td>\n",
              "      <td>254.4</td>\n",
              "      <td>103</td>\n",
              "      <td>11.45</td>\n",
              "      <td>13.7</td>\n",
              "      <td>3</td>\n",
              "      <td>3.70</td>\n",
              "      <td>1</td>\n",
              "      <td>0</td>\n",
              "    </tr>\n",
              "    <tr>\n",
              "      <th>2</th>\n",
              "      <td>137</td>\n",
              "      <td>415</td>\n",
              "      <td>0</td>\n",
              "      <td>0</td>\n",
              "      <td>0</td>\n",
              "      <td>243.4</td>\n",
              "      <td>114</td>\n",
              "      <td>41.38</td>\n",
              "      <td>121.2</td>\n",
              "      <td>110</td>\n",
              "      <td>10.30</td>\n",
              "      <td>162.6</td>\n",
              "      <td>104</td>\n",
              "      <td>7.32</td>\n",
              "      <td>12.2</td>\n",
              "      <td>5</td>\n",
              "      <td>3.29</td>\n",
              "      <td>0</td>\n",
              "      <td>0</td>\n",
              "    </tr>\n",
              "    <tr>\n",
              "      <th>3</th>\n",
              "      <td>84</td>\n",
              "      <td>408</td>\n",
              "      <td>1</td>\n",
              "      <td>0</td>\n",
              "      <td>0</td>\n",
              "      <td>299.4</td>\n",
              "      <td>71</td>\n",
              "      <td>50.90</td>\n",
              "      <td>61.9</td>\n",
              "      <td>88</td>\n",
              "      <td>5.26</td>\n",
              "      <td>196.9</td>\n",
              "      <td>89</td>\n",
              "      <td>8.86</td>\n",
              "      <td>6.6</td>\n",
              "      <td>7</td>\n",
              "      <td>1.78</td>\n",
              "      <td>2</td>\n",
              "      <td>0</td>\n",
              "    </tr>\n",
              "    <tr>\n",
              "      <th>4</th>\n",
              "      <td>75</td>\n",
              "      <td>415</td>\n",
              "      <td>1</td>\n",
              "      <td>0</td>\n",
              "      <td>0</td>\n",
              "      <td>166.7</td>\n",
              "      <td>113</td>\n",
              "      <td>28.34</td>\n",
              "      <td>148.3</td>\n",
              "      <td>122</td>\n",
              "      <td>12.61</td>\n",
              "      <td>186.9</td>\n",
              "      <td>121</td>\n",
              "      <td>8.41</td>\n",
              "      <td>10.1</td>\n",
              "      <td>3</td>\n",
              "      <td>2.73</td>\n",
              "      <td>3</td>\n",
              "      <td>0</td>\n",
              "    </tr>\n",
              "  </tbody>\n",
              "</table>\n",
              "</div>"
            ],
            "text/plain": [
              "   Account length  Area code  International plan  Voice mail plan  \\\n",
              "0             128        415                   0                1   \n",
              "1             107        415                   0                1   \n",
              "2             137        415                   0                0   \n",
              "3              84        408                   1                0   \n",
              "4              75        415                   1                0   \n",
              "\n",
              "   Number vmail messages  Total day minutes  Total day calls  \\\n",
              "0                     25              265.1              110   \n",
              "1                     26              161.6              123   \n",
              "2                      0              243.4              114   \n",
              "3                      0              299.4               71   \n",
              "4                      0              166.7              113   \n",
              "\n",
              "   Total day charge  Total eve minutes  Total eve calls  Total eve charge  \\\n",
              "0             45.07              197.4               99             16.78   \n",
              "1             27.47              195.5              103             16.62   \n",
              "2             41.38              121.2              110             10.30   \n",
              "3             50.90               61.9               88              5.26   \n",
              "4             28.34              148.3              122             12.61   \n",
              "\n",
              "   Total night minutes  Total night calls  Total night charge  \\\n",
              "0                244.7                 91               11.01   \n",
              "1                254.4                103               11.45   \n",
              "2                162.6                104                7.32   \n",
              "3                196.9                 89                8.86   \n",
              "4                186.9                121                8.41   \n",
              "\n",
              "   Total intl minutes  Total intl calls  Total intl charge  \\\n",
              "0                10.0                 3               2.70   \n",
              "1                13.7                 3               3.70   \n",
              "2                12.2                 5               3.29   \n",
              "3                 6.6                 7               1.78   \n",
              "4                10.1                 3               2.73   \n",
              "\n",
              "   Customer service calls  Churn  \n",
              "0                       1      0  \n",
              "1                       1      0  \n",
              "2                       0      0  \n",
              "3                       2      0  \n",
              "4                       3      0  "
            ]
          },
          "execution_count": 46,
          "metadata": {},
          "output_type": "execute_result"
        }
      ],
      "source": [
        "# ваш код здесь\n",
        "df.head()"
      ]
    },
    {
      "cell_type": "markdown",
      "metadata": {
        "id": "6_y9azfEzBYd"
      },
      "source": [
        "Создайте матрицу объект-признак X и вектор с целевой переменной (Churn) y."
      ]
    },
    {
      "cell_type": "code",
      "execution_count": 47,
      "metadata": {
        "id": "Nd0nCW4eypLE"
      },
      "outputs": [],
      "source": [
        "# ваш код здесь\n",
        "target = 'Churn'\n",
        "X = df.drop(target, axis=1)\n",
        "y = df[target]"
      ]
    },
    {
      "cell_type": "markdown",
      "metadata": {
        "id": "NEvkoGWw1hFL"
      },
      "source": [
        "Проверьте баланс классов. Является ли выборка сбалансированной?"
      ]
    },
    {
      "cell_type": "code",
      "execution_count": 48,
      "metadata": {
        "id": "RpPcEOAm1keZ"
      },
      "outputs": [
        {
          "data": {
            "text/plain": [
              "Churn\n",
              "0    0.855086\n",
              "1    0.144914\n",
              "Name: proportion, dtype: float64"
            ]
          },
          "execution_count": 48,
          "metadata": {},
          "output_type": "execute_result"
        }
      ],
      "source": [
        "# ваш код здесь\n",
        "y.value_counts(normalize=True)"
      ]
    },
    {
      "cell_type": "markdown",
      "metadata": {
        "id": "AYFme2HyzQxL"
      },
      "source": [
        "Разбейте данные на тренировочную и тестовую части, размер тестовой части — 30%."
      ]
    },
    {
      "cell_type": "code",
      "execution_count": 49,
      "metadata": {
        "id": "Cj13GmJlzQDS"
      },
      "outputs": [],
      "source": [
        "from sklearn.model_selection import train_test_split\n",
        "\n",
        "# ваш код здесь\n",
        "X_train, X_test, y_train, y_test = train_test_split(X, y, train_size=0.7, random_state=42)"
      ]
    },
    {
      "cell_type": "markdown",
      "metadata": {
        "id": "GbuDWle1z2Uh"
      },
      "source": [
        "Для линейных моделей очень важно масштабирование признаков. Поэтому отмасштабируйте признаки при помощи [StandardScaler](https://scikit-learn.org/stable/modules/generated/sklearn.preprocessing.StandardScaler.html), обучив метод на тренировочных данных и применив его и к трейну, и к тесту."
      ]
    },
    {
      "cell_type": "code",
      "execution_count": 50,
      "metadata": {
        "id": "69H1fh7VzaZf"
      },
      "outputs": [],
      "source": [
        "from sklearn.preprocessing import StandardScaler\n",
        "\n",
        "# ваш код здесь\n",
        "scaler = StandardScaler()\n",
        "X_train_scaler = scaler.fit_transform(X_train)\n",
        "X_test_scaler = scaler.transform(X_test)"
      ]
    },
    {
      "cell_type": "markdown",
      "metadata": {
        "id": "zvAH5Qte0W50"
      },
      "source": [
        "После масштабирования признаков X_train и X_test перестали быть объектами типа pd.DataFrame, это неудобно. Приведите их снова к pd.DataFrame."
      ]
    },
    {
      "cell_type": "code",
      "execution_count": 51,
      "metadata": {
        "id": "PRlpMQ750WSU"
      },
      "outputs": [],
      "source": [
        "# ваш код здесь\n",
        "X_train_scaler = pd.DataFrame(X_train_scaler)\n",
        "X_test_scaler = pd.DataFrame(X_test_scaler)\n"
      ]
    },
    {
      "cell_type": "markdown",
      "metadata": {
        "id": "253CDINX1TmR"
      },
      "source": [
        "Обучите на тренировочных данных с параметрами по умолчанию:\n",
        "\n",
        "1) логистическую регрессию;\n",
        "\n",
        "2) метод опорных векторов (с kernel='linear')."
      ]
    },
    {
      "cell_type": "code",
      "execution_count": 52,
      "metadata": {
        "id": "GsQW48lf1SxJ"
      },
      "outputs": [],
      "source": [
        "from sklearn.linear_model import LogisticRegression\n",
        "from sklearn.svm import SVC\n",
        "\n",
        "# ваш код здесь\n",
        "\n",
        "# Обучение логистической регрессии\n",
        "log_reg = LogisticRegression()\n",
        "log_reg.fit(X_train_scaler, y_train)\n",
        "\n",
        "# Обучение метода опорных векторов с kernel='linear'\n",
        "svc = SVC(kernel='linear', probability=True)\n",
        "svc.fit(X_train_scaler, y_train);"
      ]
    },
    {
      "cell_type": "code",
      "execution_count": 53,
      "metadata": {},
      "outputs": [
        {
          "data": {
            "text/html": [
              "<div>\n",
              "<style scoped>\n",
              "    .dataframe tbody tr th:only-of-type {\n",
              "        vertical-align: middle;\n",
              "    }\n",
              "\n",
              "    .dataframe tbody tr th {\n",
              "        vertical-align: top;\n",
              "    }\n",
              "\n",
              "    .dataframe thead th {\n",
              "        text-align: right;\n",
              "    }\n",
              "</style>\n",
              "<table border=\"1\" class=\"dataframe\">\n",
              "  <thead>\n",
              "    <tr style=\"text-align: right;\">\n",
              "      <th></th>\n",
              "      <th>Account length</th>\n",
              "      <th>Area code</th>\n",
              "      <th>International plan</th>\n",
              "      <th>Voice mail plan</th>\n",
              "      <th>Number vmail messages</th>\n",
              "      <th>Total day minutes</th>\n",
              "      <th>Total day calls</th>\n",
              "      <th>Total day charge</th>\n",
              "      <th>Total eve minutes</th>\n",
              "      <th>Total eve calls</th>\n",
              "      <th>Total eve charge</th>\n",
              "      <th>Total night minutes</th>\n",
              "      <th>Total night calls</th>\n",
              "      <th>Total night charge</th>\n",
              "      <th>Total intl minutes</th>\n",
              "      <th>Total intl calls</th>\n",
              "      <th>Total intl charge</th>\n",
              "      <th>Customer service calls</th>\n",
              "    </tr>\n",
              "  </thead>\n",
              "  <tbody>\n",
              "    <tr>\n",
              "      <th>2016</th>\n",
              "      <td>80</td>\n",
              "      <td>510</td>\n",
              "      <td>0</td>\n",
              "      <td>0</td>\n",
              "      <td>0</td>\n",
              "      <td>202.4</td>\n",
              "      <td>118</td>\n",
              "      <td>34.41</td>\n",
              "      <td>260.2</td>\n",
              "      <td>67</td>\n",
              "      <td>22.12</td>\n",
              "      <td>177.4</td>\n",
              "      <td>112</td>\n",
              "      <td>7.98</td>\n",
              "      <td>9.2</td>\n",
              "      <td>5</td>\n",
              "      <td>2.48</td>\n",
              "      <td>3</td>\n",
              "    </tr>\n",
              "    <tr>\n",
              "      <th>1362</th>\n",
              "      <td>63</td>\n",
              "      <td>510</td>\n",
              "      <td>0</td>\n",
              "      <td>0</td>\n",
              "      <td>0</td>\n",
              "      <td>132.9</td>\n",
              "      <td>122</td>\n",
              "      <td>22.59</td>\n",
              "      <td>67.0</td>\n",
              "      <td>62</td>\n",
              "      <td>5.70</td>\n",
              "      <td>160.4</td>\n",
              "      <td>121</td>\n",
              "      <td>7.22</td>\n",
              "      <td>9.9</td>\n",
              "      <td>2</td>\n",
              "      <td>2.67</td>\n",
              "      <td>3</td>\n",
              "    </tr>\n",
              "    <tr>\n",
              "      <th>2670</th>\n",
              "      <td>116</td>\n",
              "      <td>510</td>\n",
              "      <td>0</td>\n",
              "      <td>1</td>\n",
              "      <td>12</td>\n",
              "      <td>221.0</td>\n",
              "      <td>108</td>\n",
              "      <td>37.57</td>\n",
              "      <td>151.0</td>\n",
              "      <td>118</td>\n",
              "      <td>12.84</td>\n",
              "      <td>179.0</td>\n",
              "      <td>80</td>\n",
              "      <td>8.06</td>\n",
              "      <td>9.0</td>\n",
              "      <td>6</td>\n",
              "      <td>2.43</td>\n",
              "      <td>2</td>\n",
              "    </tr>\n",
              "    <tr>\n",
              "      <th>2210</th>\n",
              "      <td>71</td>\n",
              "      <td>415</td>\n",
              "      <td>0</td>\n",
              "      <td>0</td>\n",
              "      <td>0</td>\n",
              "      <td>278.9</td>\n",
              "      <td>110</td>\n",
              "      <td>47.41</td>\n",
              "      <td>190.2</td>\n",
              "      <td>67</td>\n",
              "      <td>16.17</td>\n",
              "      <td>255.2</td>\n",
              "      <td>84</td>\n",
              "      <td>11.48</td>\n",
              "      <td>11.7</td>\n",
              "      <td>7</td>\n",
              "      <td>3.16</td>\n",
              "      <td>0</td>\n",
              "    </tr>\n",
              "    <tr>\n",
              "      <th>1846</th>\n",
              "      <td>120</td>\n",
              "      <td>510</td>\n",
              "      <td>0</td>\n",
              "      <td>1</td>\n",
              "      <td>43</td>\n",
              "      <td>177.9</td>\n",
              "      <td>117</td>\n",
              "      <td>30.24</td>\n",
              "      <td>175.1</td>\n",
              "      <td>70</td>\n",
              "      <td>14.88</td>\n",
              "      <td>161.3</td>\n",
              "      <td>117</td>\n",
              "      <td>7.26</td>\n",
              "      <td>11.5</td>\n",
              "      <td>4</td>\n",
              "      <td>3.11</td>\n",
              "      <td>1</td>\n",
              "    </tr>\n",
              "  </tbody>\n",
              "</table>\n",
              "</div>"
            ],
            "text/plain": [
              "      Account length  Area code  International plan  Voice mail plan  \\\n",
              "2016              80        510                   0                0   \n",
              "1362              63        510                   0                0   \n",
              "2670             116        510                   0                1   \n",
              "2210              71        415                   0                0   \n",
              "1846             120        510                   0                1   \n",
              "\n",
              "      Number vmail messages  Total day minutes  Total day calls  \\\n",
              "2016                      0              202.4              118   \n",
              "1362                      0              132.9              122   \n",
              "2670                     12              221.0              108   \n",
              "2210                      0              278.9              110   \n",
              "1846                     43              177.9              117   \n",
              "\n",
              "      Total day charge  Total eve minutes  Total eve calls  Total eve charge  \\\n",
              "2016             34.41              260.2               67             22.12   \n",
              "1362             22.59               67.0               62              5.70   \n",
              "2670             37.57              151.0              118             12.84   \n",
              "2210             47.41              190.2               67             16.17   \n",
              "1846             30.24              175.1               70             14.88   \n",
              "\n",
              "      Total night minutes  Total night calls  Total night charge  \\\n",
              "2016                177.4                112                7.98   \n",
              "1362                160.4                121                7.22   \n",
              "2670                179.0                 80                8.06   \n",
              "2210                255.2                 84               11.48   \n",
              "1846                161.3                117                7.26   \n",
              "\n",
              "      Total intl minutes  Total intl calls  Total intl charge  \\\n",
              "2016                 9.2                 5               2.48   \n",
              "1362                 9.9                 2               2.67   \n",
              "2670                 9.0                 6               2.43   \n",
              "2210                11.7                 7               3.16   \n",
              "1846                11.5                 4               3.11   \n",
              "\n",
              "      Customer service calls  \n",
              "2016                       3  \n",
              "1362                       3  \n",
              "2670                       2  \n",
              "2210                       0  \n",
              "1846                       1  "
            ]
          },
          "execution_count": 53,
          "metadata": {},
          "output_type": "execute_result"
        }
      ],
      "source": [
        "X_train.head()"
      ]
    },
    {
      "cell_type": "code",
      "execution_count": 54,
      "metadata": {},
      "outputs": [
        {
          "data": {
            "text/plain": [
              "array([[0.78637816, 0.21362184],\n",
              "       [0.97503509, 0.02496491],\n",
              "       [0.97203789, 0.02796211],\n",
              "       ...,\n",
              "       [0.96506844, 0.03493156],\n",
              "       [0.91896315, 0.08103685],\n",
              "       [0.98782447, 0.01217553]])"
            ]
          },
          "execution_count": 54,
          "metadata": {},
          "output_type": "execute_result"
        }
      ],
      "source": [
        "log_reg.predict_proba(X_test_scaler)"
      ]
    },
    {
      "cell_type": "markdown",
      "metadata": {
        "id": "HZszTXSb110B"
      },
      "source": [
        "С помощью обученных моделей сделайте предсказание на тестовых данных. Вычислите значение метрики roc-auc на тесте. \n",
        "\n",
        "Не забудьте, что для корректного вычисления roc-auc необходимо предсказывать не сами классы, а их вероятности (чтобы SVC мог это сделать, при объявлении модели поставьте probability=True)."
      ]
    },
    {
      "cell_type": "code",
      "execution_count": 57,
      "metadata": {
        "id": "W9IUlgV011PP"
      },
      "outputs": [
        {
          "name": "stdout",
          "output_type": "stream",
          "text": [
            "ROC AUC LOG REG: 0.8282102961216148\n",
            "ROC AUC SVC: 0.7401816386647192\n"
          ]
        }
      ],
      "source": [
        "from sklearn.metrics import roc_auc_score\n",
        "\n",
        "# ваш код здесь\n",
        "y_pred_proba_log = log_reg.predict_proba(X_test_scaler)[:, 1]\n",
        "y_pred_proba_svc = svc.predict_proba(X_test_scaler)[:, 1]\n",
        "print(\"ROC AUC LOG REG:\", roc_auc_score(y_test, y_pred_proba_log))\n",
        "print(\"ROC AUC SVC:\", roc_auc_score(y_test, y_pred_proba_svc))\n"
      ]
    },
    {
      "cell_type": "markdown",
      "metadata": {
        "id": "mVgXsdO02iVG"
      },
      "source": [
        "Теперь обучите решающее дерево с параметрами по умолчанию на тренировочных данных, сделайте предсказание на тесте и вычислите на тесте roc-auc."
      ]
    },
    {
      "cell_type": "code",
      "execution_count": 58,
      "metadata": {
        "id": "yc822SQa2Zsc"
      },
      "outputs": [
        {
          "name": "stdout",
          "output_type": "stream",
          "text": [
            "ROC AUC: 0.8362151267635516\n"
          ]
        }
      ],
      "source": [
        "from sklearn.tree import DecisionTreeClassifier\n",
        "\n",
        "# ваш код здесь\n",
        "clf = DecisionTreeClassifier()\n",
        "clf.fit(X_train, y_train)\n",
        "\n",
        "# Make predictions on the test set\n",
        "y_pred_proba = clf.predict_proba(X_test)[:, 1]\n",
        "\n",
        "# Calculate ROC AUC on the test set\n",
        "roc_auc = roc_auc_score(y_test, y_pred_proba)\n",
        "print(\"ROC AUC after scaler:\", roc_auc)"
      ]
    },
    {
      "cell_type": "markdown",
      "metadata": {
        "id": "wNSwPGPl22zf"
      },
      "source": [
        "Нужно ли масшабировать признаки для обучения решающего дерева? Проверьте это, заново разбив данные на тренировочную и тестовую части (назовите новые полученные объекты новыми названиями), и проведите обучение, предсказание и оценку метрики до масштабирования и после."
      ]
    },
    {
      "cell_type": "code",
      "execution_count": 59,
      "metadata": {
        "id": "t0tjFrP02yIR"
      },
      "outputs": [
        {
          "name": "stdout",
          "output_type": "stream",
          "text": [
            "ROC AUC before scaler: 0.8298014704082383\n"
          ]
        }
      ],
      "source": [
        "# ваш код здесь\n",
        "clf = DecisionTreeClassifier()\n",
        "clf.fit(X_train_scaler, y_train)\n",
        "\n",
        "# Make predictions on the test set\n",
        "y_pred_proba = clf.predict_proba(X_test_scaler)[:, 1]\n",
        "\n",
        "# Calculate ROC AUC on the test set\n",
        "roc_auc = roc_auc_score(y_test, y_pred_proba)\n",
        "print(\"ROC AUC before scaler:\", roc_auc)"
      ]
    },
    {
      "cell_type": "markdown",
      "metadata": {
        "id": "QpPU2fxH3kta"
      },
      "source": [
        "Какой вывод про масштабирование признаков для обучения дерева можно сделать?"
      ]
    },
    {
      "cell_type": "markdown",
      "metadata": {},
      "source": [
        "После масшитабирования качество немного упало, поэтому масштабировать признаки не нужно"
      ]
    },
    {
      "cell_type": "markdown",
      "metadata": {
        "id": "Bof-nFO-3pp7"
      },
      "source": [
        "Теперь ваша цель — максимально улучшить модели. Для этого:\n",
        "\n",
        "1) у линейных моделей подберите гиперпараметр С (переберите 20 значений C в диапазоне от 0.1 до 10 с равным шагом);\n",
        "\n",
        "2) у решающего дерева подберите max_depth (переберите глубину от 1 до 10 с шагом 1) и criterion — gini или entropy (см. [документацию](https://scikit-learn.org/stable/modules/generated/sklearn.tree.DecisionTreeClassifier.html)).\n",
        "\n",
        "Для подбора параметров используйте [GridSearchCV](https://scikit-learn.org/stable/modules/generated/sklearn.model_selection.GridSearchCV.html) с пятью фолдами и метрикой roc-auc или обычные циклы.\n",
        "\n",
        "Подбор параметров осуществляется только по тренировочным данным!"
      ]
    },
    {
      "cell_type": "markdown",
      "metadata": {
        "id": "fOpaM-hq44uW"
      },
      "source": [
        "После подбора гиперпараметров обучите модели с найденными гиперпараметрами на тренировочных данных, сделайте предсказания на тесте и оцените их качество (roc_auc)."
      ]
    },
    {
      "cell_type": "code",
      "execution_count": 65,
      "metadata": {
        "id": "hk9rxc993bRu"
      },
      "outputs": [
        {
          "name": "stdout",
          "output_type": "stream",
          "text": [
            "Best parameters for Linear Model: {'C': 0.7}\n",
            "Best score for Linear Model: 0.8028298465643863\n",
            "Best parameters for Decision Tree: {'criterion': 'gini', 'max_depth': 4}\n",
            "Best score for Decision Tree: 0.8747349177703349\n"
          ]
        }
      ],
      "source": [
        "from sklearn.model_selection import GridSearchCV\n",
        "\n",
        "\n",
        "\n",
        "from sklearn.linear_model import LogisticRegression\n",
        "from sklearn.tree import DecisionTreeClassifier\n",
        "from sklearn.model_selection import GridSearchCV\n",
        "\n",
        "# Linear Model\n",
        "param_grid_lr = {'C': [np.round(i*0.1, 2) for i in range(1, 21)]}\n",
        "grid_search_lr = GridSearchCV(LogisticRegression(), param_grid_lr, cv=5, scoring='roc_auc')\n",
        "grid_search_lr.fit(X_train_scaler, y_train)\n",
        "print(\"Best parameters for Linear Model:\", grid_search_lr.best_params_)\n",
        "print(\"Best score for Linear Model:\", grid_search_lr.best_score_)\n",
        "\n",
        "# Decision Tree\n",
        "param_grid_dt = {'max_depth': range(1, 11), 'criterion': ['gini', 'entropy']}\n",
        "grid_search_dt = GridSearchCV(DecisionTreeClassifier(), param_grid_dt, cv=5, scoring='roc_auc')\n",
        "grid_search_dt.fit(X_train, y_train)\n",
        "print(\"Best parameters for Decision Tree:\", grid_search_dt.best_params_)\n",
        "print(\"Best score for Decision Tree:\", grid_search_dt.best_score_)"
      ]
    },
    {
      "cell_type": "markdown",
      "metadata": {
        "id": "LJdQGP5B6UuT"
      },
      "source": [
        "Какая модель справилась с решением задачи лучше всего по метрике roc-auc?\n"
      ]
    },
    {
      "cell_type": "markdown",
      "metadata": {},
      "source": [
        "Решающее дерево с задачей справилось лучше."
      ]
    },
    {
      "cell_type": "markdown",
      "metadata": {
        "id": "9QqqeHyP6Y4o"
      },
      "source": [
        "Нарисуйте roc-кривую для наилучшей модели."
      ]
    },
    {
      "cell_type": "code",
      "execution_count": 68,
      "metadata": {
        "id": "xzrjnbQB6YMA"
      },
      "outputs": [
        {
          "data": {
            "image/png": "[encoded data removed]",
            "text/plain": [
              "<Figure size 640x480 with 1 Axes>"
            ]
          },
          "metadata": {},
          "output_type": "display_data"
        }
      ],
      "source": [
        "from sklearn.metrics import roc_curve, auc\n",
        "from matplotlib import pyplot as plt\n",
        "\n",
        "# ваш код здесь\n",
        "\n",
        "y_pred_proba = grid_search_dt.best_estimator_.predict_proba(X_test)[:, 1]\n",
        "fpr, tpr, thresholds = roc_curve(y_test, y_pred_proba)\n",
        "\n",
        "# Plot the ROC curve\n",
        "plt.plot(fpr, tpr, color='darkorange', lw=2, label='ROC curve')\n",
        "plt.plot([0, 1], [0, 1], color='navy', lw=2, linestyle='--')\n",
        "plt.xlim([0.0, 1.0])\n",
        "plt.ylim([0.0, 1.05])\n",
        "plt.xlabel('False Positive Rate')\n",
        "plt.ylabel('True Positive Rate')\n",
        "plt.title('Receiver operating characteristic example')\n",
        "plt.legend(loc=\"lower right\")\n",
        "plt.show()"
      ]
    },
    {
      "cell_type": "markdown",
      "metadata": {
        "id": "mKaWSPa_6vvk"
      },
      "source": [
        "Сравните между собой две лучшие модели:\n",
        "\n",
        "1. Насколько сильно отличается качество предсказания на тестовых данных?\n",
        "(Вычислите разность значений roc-auc.)\n",
        "\n",
        "2. Постройте гистограммы важности признаков (для линейных моделей берите модуль значений весов) для каждой из этих моделей. Сравните между собой списки из трёх самых важных признаков. Совпадают ли они?"
      ]
    },
    {
      "cell_type": "code",
      "execution_count": 78,
      "metadata": {
        "id": "cc0q1_XL7QT0"
      },
      "outputs": [
        {
          "name": "stdout",
          "output_type": "stream",
          "text": [
            "ROC AUC difference %: 5.77\n"
          ]
        }
      ],
      "source": [
        "# ваш код здесь\n",
        "\n",
        "model_lr = grid_search_lr.best_estimator_\n",
        "model_clf = grid_search_dt.best_estimator_\n",
        "\n",
        "# Make predictions on the test set\n",
        "y_pred_proba_clf = model_clf.predict_proba(X_test)[:, 1]\n",
        "y_pred_proba_lr = model_lr.predict_proba(X_test_scaler)[:, 1]\n",
        "\n",
        "# Calculate ROC AUC on the test set\n",
        "roc_auc_clf = roc_auc_score(y_test, y_pred_proba_clf)\n",
        "roc_auc_lr = roc_auc_score(y_test, y_pred_proba_lr)\n",
        "\n",
        "print(\"ROC AUC difference %:\", np.round((roc_auc_clf-roc_auc_lr) * 100, 3))"
      ]
    },
    {
      "cell_type": "code",
      "execution_count": 94,
      "metadata": {
        "id": "lz_y6FjJ7Kol"
      },
      "outputs": [
        {
          "data": {
            "text/html": [
              "<div>\n",
              "<style scoped>\n",
              "    .dataframe tbody tr th:only-of-type {\n",
              "        vertical-align: middle;\n",
              "    }\n",
              "\n",
              "    .dataframe tbody tr th {\n",
              "        vertical-align: top;\n",
              "    }\n",
              "\n",
              "    .dataframe thead th {\n",
              "        text-align: right;\n",
              "    }\n",
              "</style>\n",
              "<table border=\"1\" class=\"dataframe\">\n",
              "  <thead>\n",
              "    <tr style=\"text-align: right;\">\n",
              "      <th></th>\n",
              "      <th>Features</th>\n",
              "      <th>Coef</th>\n",
              "    </tr>\n",
              "  </thead>\n",
              "  <tbody>\n",
              "    <tr>\n",
              "      <th>17</th>\n",
              "      <td>Customer service calls</td>\n",
              "      <td>0.662080</td>\n",
              "    </tr>\n",
              "    <tr>\n",
              "      <th>2</th>\n",
              "      <td>International plan</td>\n",
              "      <td>0.630692</td>\n",
              "    </tr>\n",
              "    <tr>\n",
              "      <th>3</th>\n",
              "      <td>Voice mail plan</td>\n",
              "      <td>0.610055</td>\n",
              "    </tr>\n",
              "  </tbody>\n",
              "</table>\n",
              "</div>"
            ],
            "text/plain": [
              "                  Features      Coef\n",
              "17  Customer service calls  0.662080\n",
              "2       International plan  0.630692\n",
              "3          Voice mail plan  0.610055"
            ]
          },
          "execution_count": 94,
          "metadata": {},
          "output_type": "execute_result"
        }
      ],
      "source": [
        "# ваш код здесь\n",
        "top_features_lr = pd.DataFrame({\"Features\": np.array(X_test.columns),\"Coef\": abs(np.array(model_lr.coef_)).reshape(-1)}).sort_values(by='Coef', ascending=False)\n",
        "top_features_lr[:3]"
      ]
    },
    {
      "cell_type": "code",
      "execution_count": 96,
      "metadata": {},
      "outputs": [
        {
          "data": {
            "text/html": [
              "<div>\n",
              "<style scoped>\n",
              "    .dataframe tbody tr th:only-of-type {\n",
              "        vertical-align: middle;\n",
              "    }\n",
              "\n",
              "    .dataframe tbody tr th {\n",
              "        vertical-align: top;\n",
              "    }\n",
              "\n",
              "    .dataframe thead th {\n",
              "        text-align: right;\n",
              "    }\n",
              "</style>\n",
              "<table border=\"1\" class=\"dataframe\">\n",
              "  <thead>\n",
              "    <tr style=\"text-align: right;\">\n",
              "      <th></th>\n",
              "      <th>Features</th>\n",
              "      <th>Coef</th>\n",
              "    </tr>\n",
              "  </thead>\n",
              "  <tbody>\n",
              "    <tr>\n",
              "      <th>5</th>\n",
              "      <td>Total day minutes</td>\n",
              "      <td>0.355748</td>\n",
              "    </tr>\n",
              "    <tr>\n",
              "      <th>17</th>\n",
              "      <td>Customer service calls</td>\n",
              "      <td>0.189853</td>\n",
              "    </tr>\n",
              "    <tr>\n",
              "      <th>2</th>\n",
              "      <td>International plan</td>\n",
              "      <td>0.149394</td>\n",
              "    </tr>\n",
              "  </tbody>\n",
              "</table>\n",
              "</div>"
            ],
            "text/plain": [
              "                  Features      Coef\n",
              "5        Total day minutes  0.355748\n",
              "17  Customer service calls  0.189853\n",
              "2       International plan  0.149394"
            ]
          },
          "execution_count": 96,
          "metadata": {},
          "output_type": "execute_result"
        }
      ],
      "source": [
        "top_features_lr = pd.DataFrame({\"Features\": np.array(X_test.columns),\"Coef\": abs(np.array(model_clf.feature_importances_)).reshape(-1)}).sort_values(by='Coef', ascending=False)\n",
        "top_features_lr[:3]"
      ]
    },
    {
      "cell_type": "markdown",
      "metadata": {
        "id": "beRXM0lT8MUp"
      },
      "source": [
        "Сделайте выводы:\n",
        "\n",
        "1. Являются ли данные сбалансированными? Что это означает?\n",
        "\n",
        "Данные не являются сбалансированными, то есть количество одного класса в данных больше количества другого.\n",
        "\n",
        "2. Какая модель после подбора гиперпараметров лучше всего решает задачу с точки зрения метрики roc-auc?\n",
        "\n",
        "Решающее дерево\n",
        "\n",
        "3. Одинаковые ли признаки важны для работы двух наилучших моделей? Почему?\n",
        "\n",
        "Разные, потому что логистическая регрессия ищет только линейные зависимости, а решающее дерево может искать не только линейные зависимости, а также нелинейные."
      ]
    }
  ],
  "metadata": {
    "colab": {
      "collapsed_sections": [],
      "provenance": []
    },
    "kernelspec": {
      "display_name": "Python 3",
      "name": "python3"
    },
    "language_info": {
      "codemirror_mode": {
        "name": "ipython",
        "version": 3
      },
      "file_extension": ".py",
      "mimetype": "text/x-python",
      "name": "python",
      "nbconvert_exporter": "python",
      "pygments_lexer": "ipython3",
      "version": "3.12.2"
    }
  },
  "nbformat": 4,
  "nbformat_minor": 0
}
