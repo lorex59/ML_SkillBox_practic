{
  "cells": [
    {
      "cell_type": "markdown",
      "metadata": {
        "id": "wGUh9-kKDVk_"
      },
      "source": [
        "# Случайный лес\n",
        "\n",
        "В этом практическом задании вы решите задачу регрессии на реальных данных при помощи линейной модели и случайного леса. "
      ]
    },
    {
      "cell_type": "markdown",
      "metadata": {
        "id": "RS-i_3wQqtxS"
      },
      "source": [
        "## Цели практической работы\n",
        "\n",
        "* Научиться применять случайный лес в задаче регрессии.\n",
        "* Научиться сравнивать качество случайного леса с качеством линейной модели.\n",
        "* Научиться настраивать гиперпараметры леса."
      ]
    },
    {
      "cell_type": "markdown",
      "metadata": {
        "id": "4Uo9gVtsqbJX"
      },
      "source": [
        "## Что входит в работу\n",
        "\n",
        "* Выполнить предобработку данных.\n",
        "* Обучить линейную регрессию на данных задачи.\n",
        "* Обучить случайный лес на данных задачи.\n",
        "* Подобрать гиперпараметры для леса.\n",
        "* Визуализировать важность признаков у леса."
      ]
    },
    {
      "cell_type": "markdown",
      "metadata": {
        "id": "9WSnh3hKrFZX"
      },
      "source": [
        "## Что оценивается\n",
        "\n",
        "*  Все ячейки заполнены; при запуске ячеек  Python не выдаёт информацию об ошибках.\n",
        "*  Качество итоговой модели $R^2$ превышает 0,95.\n"
      ]
    },
    {
      "cell_type": "markdown",
      "metadata": {
        "id": "Tb-5iUrybT-m"
      },
      "source": [
        "## Что нужно сделать\n",
        "\n",
        "Постройте модели, предсказывающие стоимость автомобилей по характеристикам.\n",
        "\n",
        "Признаков у машин много, но в этой работе обойдёмся только числовыми признаками:\n",
        "*  year — год производства автомобиля;\n",
        "*  km_driven — пробег;\n",
        "*  seats — количество посадочных мест;\n",
        "*  mileage — другая характеристика пробега;\n",
        "*  engine — мощность двигателя;\n",
        "*  max_power — мощность автомобиля.\n",
        "\n",
        "Целевая переменная — selling_price."
      ]
    },
    {
      "cell_type": "code",
      "execution_count": 38,
      "metadata": {
        "id": "0smCupJnhCRx"
      },
      "outputs": [],
      "source": [
        "import pandas as pd\n",
        "import numpy as np\n",
        "\n",
        "train = pd.read_csv(\"cars_train.csv\")\n",
        "test = pd.read_csv(\"cars_test.csv\")\n",
        "target = 'selling_price'"
      ]
    },
    {
      "cell_type": "markdown",
      "metadata": {
        "id": "jTjAo4UEL3IG"
      },
      "source": [
        "Создайте объекты Xtrain, ytrain, Xtest, ytest. Запишите в них матрицы «объект — признак» и векторы целевой переменной для тренировочного и тестового датасетов."
      ]
    },
    {
      "cell_type": "code",
      "execution_count": 39,
      "metadata": {
        "id": "2tLR6TQAiuXf"
      },
      "outputs": [],
      "source": [
        "# Ваш код здесь\n",
        "from sklearn.model_selection import train_test_split\n",
        "train = train.dropna(subset=[target])\n",
        "Xtrain, Xtest, ytrain, ytest = train.drop(target, axis=1),  test.drop(target, axis=1), train[target], test[target], "
      ]
    },
    {
      "cell_type": "markdown",
      "metadata": {
        "id": "TWiEH5reAKTF"
      },
      "source": [
        "В тренировочных данных есть автомобили, для которых неизвестна стоимость. Удалите эти автомобили из трейна."
      ]
    },
    {
      "cell_type": "markdown",
      "metadata": {
        "id": "3HbVvXLSlVK-"
      },
      "source": [
        "Перед обучением моделей обработайте данные.\n",
        "\n",
        "Обратите внимание, что столбцы mileage, engine и max_power по смыслу числовые. Чтобы превратить их в числовые столбцы, отбросьте единицы измерения и оставьте только числа. В столбцах есть пропущенные значения, их при обработке трогать не нужно."
      ]
    },
    {
      "cell_type": "code",
      "execution_count": 40,
      "metadata": {
        "id": "OdvsVN9Blg7r"
      },
      "outputs": [],
      "source": [
        "# Ваш код здесь\n",
        "Xtrain['mileage'] = Xtrain['mileage'].apply(lambda x:  x.split()[0] if pd.notnull(x) else np.NaN)\n",
        "Xtest['mileage'] = Xtest['mileage'].apply(lambda x:  x.split()[0] if pd.notnull(x) else np.NaN)\n",
        "\n",
        "\n",
        "Xtrain['engine'] = Xtrain['engine'].apply(lambda x:  x.split()[0] if pd.notnull(x) else np.NaN)\n",
        "Xtest['engine'] = Xtest['engine'].apply(lambda x:  x.split()[0] if pd.notnull(x) else np.NaN)\n",
        "\n",
        "\n",
        "Xtrain['max_power'] = Xtrain['max_power'].apply(lambda x:  x.split()[0] if pd.notnull(x) else np.NaN)\n",
        "Xtest['max_power'] = Xtest['max_power'].apply(lambda x:  x.split()[0] if pd.notnull(x) else np.NaN);\n"
      ]
    },
    {
      "cell_type": "markdown",
      "metadata": {
        "id": "p43qUhHg-_-e"
      },
      "source": [
        "Оставьте в данных только шесть числовых столбцов:\n",
        "\n",
        "year, km_driven, seats, engine, mileage, max_power"
      ]
    },
    {
      "cell_type": "code",
      "execution_count": 41,
      "metadata": {
        "id": "vP0FYosyix7_"
      },
      "outputs": [],
      "source": [
        "# Ваш код здесь\n",
        "columns = ['year', 'km_driven', 'seats', 'engine', 'mileage', 'max_power']\n",
        "Xtrain = Xtrain[columns]\n",
        "Xtest = Xtest[columns]\n"
      ]
    },
    {
      "cell_type": "markdown",
      "metadata": {
        "id": "Q0AsRR_69ZFH"
      },
      "source": [
        "Теперь заполните пропуски следующим образом:\n",
        "\n",
        "*    вычислите средние значения по столбцам тренировочной выборки;\n",
        "\n",
        "*    добавьте в пропуски в тренировочных и тестовых данных вычисленные средние."
      ]
    },
    {
      "cell_type": "code",
      "execution_count": 42,
      "metadata": {
        "id": "yk0P1b6X9qqh"
      },
      "outputs": [],
      "source": [
        "# Ваш код здесь\n",
        "from sklearn.impute import SimpleImputer\n",
        "\n",
        "imputer = SimpleImputer(strategy='mean')\n",
        "Xtrain[columns] = imputer.fit_transform(Xtrain[columns])\n",
        "Xtest[columns] = imputer.transform(Xtest[columns])\n"
      ]
    },
    {
      "cell_type": "markdown",
      "metadata": {
        "id": "BUatWsDGi_rj"
      },
      "source": [
        "Теперь на обработанных тренировочных данных обучите:\n",
        "\n",
        "*  линейную регрессию,\n",
        "*  случайный лес с параметрами по умолчанию.\n",
        "\n",
        "На обработанных тестовых данных сделайте предсказание и вычислите метрику $R^2$. "
      ]
    },
    {
      "cell_type": "code",
      "execution_count": 47,
      "metadata": {
        "id": "cQ7iS1eu-s_8"
      },
      "outputs": [
        {
          "name": "stdout",
          "output_type": "stream",
          "text": [
            "R^2 для линейной регрессии: 0.6485839251280121\n",
            "R^2 для случайного леса: 0.96425994113191\n"
          ]
        }
      ],
      "source": [
        "# Ваш код здесь\n",
        "from sklearn.linear_model import LinearRegression\n",
        "from sklearn.ensemble import RandomForestRegressor\n",
        "from sklearn.metrics import r2_score\n",
        "\n",
        "def train_and_evaluate(model, Xtrain, ytrain, Xtest, ytest):\n",
        "    model.fit(Xtrain, ytrain)\n",
        "    y_pred = model.predict(Xtest)\n",
        "    r2 = r2_score(ytest, y_pred)\n",
        "    return r2\n",
        "\n",
        "# Линейная регрессия\n",
        "lr_model = LinearRegression()\n",
        "r2_lr = train_and_evaluate(lr_model, Xtrain, ytrain, Xtest, ytest)\n",
        "print(\"R^2 для линейной регрессии:\", r2_lr)\n",
        "\n",
        "# Случайный лес\n",
        "rf_model = RandomForestRegressor()\n",
        "r2_rf = train_and_evaluate(rf_model, Xtrain, ytrain, Xtest, ytest)\n",
        "print(\"R^2 для случайного леса:\", r2_rf)"
      ]
    },
    {
      "cell_type": "markdown",
      "metadata": {
        "id": "LbbD1-qC76HW"
      },
      "source": [
        "Какая модель получилась лучше?"
      ]
    },
    {
      "cell_type": "code",
      "execution_count": 44,
      "metadata": {
        "id": "j3N-kazm767P"
      },
      "outputs": [],
      "source": [
        "# Ваш ответ здесь\n",
        "# RandomForest"
      ]
    },
    {
      "cell_type": "markdown",
      "metadata": {
        "id": "J36iRaNoBEkT"
      },
      "source": [
        "Улучшите качество предсказания случайного леса путём подбора гиперпараметров:\n",
        "\n",
        "*   n_estimators,\n",
        "*   max_depth,\n",
        "*   max_features,\n",
        "*   min_samples_leaf,\n",
        "*   min_samples_split.\n",
        "\n",
        "Для подбора гиперпараметров используйте GridSearchCV. Обучайте GridSearchCV по тренировочным данным с разбивкой на три фолда и метрикой $R^2$."
      ]
    },
    {
      "cell_type": "code",
      "execution_count": 46,
      "metadata": {
        "id": "3IWEulMqBXlv"
      },
      "outputs": [
        {
          "name": "stdout",
          "output_type": "stream",
          "text": [
            "Best parameters: {'max_depth': 15, 'max_features': 'sqrt', 'min_samples_leaf': 1, 'min_samples_split': 2, 'n_estimators': 100}\n",
            "Best R^2: 0.9540136186960041\n",
            "R^2 on test data: 0.9605449001999324\n"
          ]
        }
      ],
      "source": [
        "# Ваш код здесь\n",
        "from sklearn.model_selection import GridSearchCV\n",
        "\n",
        "param_grid = {\n",
        "    'n_estimators': [100, 200, 300],\n",
        "    'max_depth': [5, 10, 15],\n",
        "    'max_features': ['sqrt', 'log2'],\n",
        "    'min_samples_leaf': [1, 5, 10],\n",
        "    'min_samples_split': [2, 5, 10]\n",
        "}\n",
        "\n",
        "rf_model = RandomForestRegressor()\n",
        "grid_search = GridSearchCV(rf_model, param_grid, cv=3, scoring='r2')\n",
        "grid_search.fit(Xtrain, ytrain)\n",
        "\n",
        "print(\"Best parameters:\", grid_search.best_params_)\n",
        "print(\"Best R^2:\", grid_search.best_score_)\n",
        "\n",
        "best_model = grid_search.best_estimator_\n",
        "y_pred = best_model.predict(Xtest)\n",
        "r2 = r2_score(ytest, y_pred)\n",
        "print(\"R^2 on test data:\", r2)"
      ]
    },
    {
      "cell_type": "markdown",
      "metadata": {
        "id": "TPNNp6cPDsjD"
      },
      "source": [
        "Теперь обучите на тренировочных данных случайный лес с найденными гиперпараметрами. Сделайте предсказание на тестовых данных и оцените его качество ($R^2$)."
      ]
    },
    {
      "cell_type": "code",
      "execution_count": 48,
      "metadata": {
        "id": "MPdZ9qCxDrkF"
      },
      "outputs": [
        {
          "name": "stdout",
          "output_type": "stream",
          "text": [
            "R^2 on test data: 0.9605449001999324\n"
          ]
        }
      ],
      "source": [
        "# Ваш код здесь\n",
        "best_model = grid_search.best_estimator_\n",
        "y_pred = best_model.predict(Xtest)\n",
        "r2 = r2_score(ytest, y_pred)\n",
        "print(\"R^2 on test data:\", r2)"
      ]
    },
    {
      "cell_type": "markdown",
      "metadata": {
        "id": "dpWSQeD4ENby"
      },
      "source": [
        "Модель готова. Осталось её проинтерпретировать.\n",
        "\n",
        "При помощи метода model.feature_importances_ визуализируйте гистограмму важности признаков у случайного леса с настроенными гиперпараметрами."
      ]
    },
    {
      "cell_type": "code",
      "execution_count": 56,
      "metadata": {
        "id": "7uZzKbUnD54w"
      },
      "outputs": [
        {
          "data": {
            "text/plain": [
              "<Axes: xlabel='None'>"
            ]
          },
          "execution_count": 56,
          "metadata": {},
          "output_type": "execute_result"
        },
        {
          "data": {
            "image/png": "[encoded data removed]",
            "text/plain": [
              "<Figure size 640x480 with 1 Axes>"
            ]
          },
          "metadata": {},
          "output_type": "display_data"
        }
      ],
      "source": [
        "# Ваш код здесь\n",
        "import matplotlib.pyplot as plt\n",
        "import seaborn as sns\n",
        "# Получаем важности признаков из лучшей модели\n",
        "importances = best_model.feature_importances_\n",
        "features_importances = pd.DataFrame({\"features\": Xtest.columns, 'coef': importances})\n",
        "sns.barplot(x=Xtrain.columns, y=importances)"
      ]
    }
  ],
  "metadata": {
    "colab": {
      "provenance": []
    },
    "kernelspec": {
      "display_name": "Python 3",
      "name": "python3"
    },
    "language_info": {
      "codemirror_mode": {
        "name": "ipython",
        "version": 3
      },
      "file_extension": ".py",
      "mimetype": "text/x-python",
      "name": "python",
      "nbconvert_exporter": "python",
      "pygments_lexer": "ipython3",
      "version": "3.12.2"
    }
  },
  "nbformat": 4,
  "nbformat_minor": 0
}
