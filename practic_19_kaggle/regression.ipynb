{
 "cells": [
  {
   "cell_type": "code",
   "execution_count": 1,
   "metadata": {},
   "outputs": [],
   "source": [
    "# отключим всякие предупреждения Anaconda\n",
    "import warnings\n",
    "\n",
    "warnings.filterwarnings(\"ignore\")\n",
    "import numpy as np\n",
    "import pandas as pd\n",
    "\n",
    "pd.set_option(\"display.max.columns\", 100)\n",
    "\n",
    "%matplotlib inline\n",
    "import seaborn as sns\n",
    "from matplotlib import pyplot as plt"
   ]
  },
  {
   "cell_type": "code",
   "execution_count": 5,
   "metadata": {},
   "outputs": [],
   "source": [
    "train_df= pd.read_csv('data/train_reg.csv',index_col='Id')\n",
    "test_df = pd.read_csv('data/test_reg.csv', index_col='Id')\n",
    "\n",
    "\n",
    "submission = pd.read_csv('data/sample_submission_reg.csv')"
   ]
  },
  {
   "cell_type": "code",
   "execution_count": 8,
   "metadata": {},
   "outputs": [],
   "source": [
    "from sklearn.model_selection import train_test_split\n",
    "from catboost.utils import eval_metric\n",
    "\n",
    "from catboost import Pool\n",
    "from catboost import CatBoostRegressor\n",
    "import numpy as np"
   ]
  },
  {
   "cell_type": "code",
   "execution_count": 9,
   "metadata": {},
   "outputs": [
    {
     "name": "stdout",
     "output_type": "stream",
     "text": [
      "<class 'pandas.core.frame.DataFrame'>\n",
      "Index: 800 entries, 230 to 1029\n",
      "Data columns (total 9 columns):\n",
      " #   Column              Non-Null Count  Dtype  \n",
      "---  ------              --------------  -----  \n",
      " 0   Cement              800 non-null    float64\n",
      " 1   Blast Furnace Slag  800 non-null    float64\n",
      " 2   Fly Ash             800 non-null    float64\n",
      " 3   Water               800 non-null    float64\n",
      " 4   Superplasticizer    800 non-null    float64\n",
      " 5   Coarse Aggregate    800 non-null    float64\n",
      " 6   Fine Aggregate      800 non-null    float64\n",
      " 7   Age                 800 non-null    int64  \n",
      " 8   Strength            800 non-null    float64\n",
      "dtypes: float64(8), int64(1)\n",
      "memory usage: 62.5 KB\n"
     ]
    }
   ],
   "source": [
    "train_df.info()"
   ]
  },
  {
   "cell_type": "code",
   "execution_count": 21,
   "metadata": {},
   "outputs": [],
   "source": [
    "target_columns = 'Strength'\n",
    "numerical_columns = test_df.select_dtypes(include=['int64', 'float64']).columns\n",
    "categorical_columns = test_df.select_dtypes(include=['object']).columns\n",
    "\n",
    "X_train, X_val, y_train, y_val = train_test_split(train_df.drop(target_columns, axis=1), train_df[target_columns], test_size=0.3, random_state=42)\n",
    "\n",
    "cat_train_pool = Pool(X_train, y_train, cat_features=np.array(categorical_columns))\n",
    "cat_val_pool = Pool(X_val, y_val, cat_features=np.array(categorical_columns)) \n",
    "cat_test_pool = Pool(test_df, cat_features=np.array(categorical_columns)) \n",
    " "
   ]
  },
  {
   "cell_type": "code",
   "execution_count": 22,
   "metadata": {},
   "outputs": [
    {
     "name": "stdout",
     "output_type": "stream",
     "text": [
      "Learning rate set to 0.04649\n",
      "0:\tlearn: 16.9204424\ttest: 14.9357049\tbest: 14.9357049 (0)\ttotal: 1.13ms\tremaining: 1.13s\n",
      "100:\tlearn: 4.7517623\ttest: 5.4173634\tbest: 5.4173634 (100)\ttotal: 93.6ms\tremaining: 833ms\n",
      "200:\tlearn: 3.6205832\ttest: 4.8544292\tbest: 4.8544292 (200)\ttotal: 176ms\tremaining: 700ms\n",
      "300:\tlearn: 2.8950120\ttest: 4.5477559\tbest: 4.5476032 (299)\ttotal: 264ms\tremaining: 614ms\n",
      "400:\tlearn: 2.4495420\ttest: 4.3729538\tbest: 4.3729538 (400)\ttotal: 372ms\tremaining: 556ms\n",
      "500:\tlearn: 2.1391001\ttest: 4.2670749\tbest: 4.2670749 (500)\ttotal: 475ms\tremaining: 473ms\n",
      "600:\tlearn: 1.9168466\ttest: 4.1803293\tbest: 4.1803100 (599)\ttotal: 566ms\tremaining: 376ms\n",
      "700:\tlearn: 1.7173162\ttest: 4.1284972\tbest: 4.1284972 (700)\ttotal: 661ms\tremaining: 282ms\n",
      "800:\tlearn: 1.5504079\ttest: 4.0967600\tbest: 4.0967600 (800)\ttotal: 760ms\tremaining: 189ms\n",
      "900:\tlearn: 1.4208804\ttest: 4.0709921\tbest: 4.0709921 (900)\ttotal: 917ms\tremaining: 101ms\n",
      "999:\tlearn: 1.3189500\ttest: 4.0643980\tbest: 4.0639884 (966)\ttotal: 1s\tremaining: 0us\n",
      "\n",
      "bestTest = 4.063988362\n",
      "bestIteration = 966\n",
      "\n",
      "Shrink model to first 967 iterations.\n"
     ]
    },
    {
     "data": {
      "text/plain": [
       "<catboost.core.CatBoostRegressor at 0x262f3d3dd00>"
      ]
     },
     "execution_count": 22,
     "metadata": {},
     "output_type": "execute_result"
    }
   ],
   "source": [
    "model_cat = CatBoostRegressor(\n",
    "    verbose=100,\n",
    "    random_seed=42)\n",
    "model_cat.fit(cat_train_pool, eval_set=cat_val_pool)"
   ]
  },
  {
   "cell_type": "code",
   "execution_count": 25,
   "metadata": {},
   "outputs": [],
   "source": [
    "submission[target_columns] = pd.Series(model_cat.predict(cat_test_pool))\n",
    "submission.to_csv(\"submission_regression.csv\", index=False)"
   ]
  }
 ],
 "metadata": {
  "kernelspec": {
   "display_name": "machine",
   "language": "python",
   "name": "python3"
  },
  "language_info": {
   "codemirror_mode": {
    "name": "ipython",
    "version": 3
   },
   "file_extension": ".py",
   "mimetype": "text/x-python",
   "name": "python",
   "nbconvert_exporter": "python",
   "pygments_lexer": "ipython3",
   "version": "3.12.2"
  }
 },
 "nbformat": 4,
 "nbformat_minor": 2
}
