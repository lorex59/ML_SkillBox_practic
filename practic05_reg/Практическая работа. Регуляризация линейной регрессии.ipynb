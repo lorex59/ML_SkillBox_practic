{
  "cells": [
    {
      "cell_type": "markdown",
      "id": "d805a8fc-5f62-4226-984a-53ac351aca4e",
      "metadata": {
        "id": "d805a8fc-5f62-4226-984a-53ac351aca4e"
      },
      "source": [
        "# Регуляризация линейной регрессии. Практическая работа\n",
        "\n",
        "## Цель практической работы\n",
        "\n",
        "Научиться строить модель линейной регрессии с регуляризацией на реальных данных.\n",
        "\n",
        "## Что входит в практическую работу\n",
        "\n",
        "1. Загрузить данные и ознакомиться с ними.\n",
        "2. Изучить данные и провести анализ, сконструировать новые признаки.\n",
        "3. Разделить данные на обучающую и тестовую выборки.\n",
        "4. Реализовать построение модели с помощью библиотеки Scikit-learn.\n",
        "5. Подобрать коэффициенты регуляризации.\n",
        "6. Получить качество модели с помощью MSE, MAE, $R^2$.\n",
        "7. Ответить на вопросы в конце блокнота.\n",
        "\n",
        "## Что оценивается \n",
        "\n",
        "- Выполнены все этапы работы.\n",
        "- Подобраны коэффициенты регуляризации.\n",
        "- Сделан вывод по результатам.\n",
        "- Модель не переобучена.\n",
        "- Получена модель хорошего качества.\n",
        "- Сделаны выводы в конце блокнота.\n",
        "\n",
        "## Как отправить работу на проверку\n",
        "\n",
        "Скачайте файл с заданиями в материалах, откройте его через Jupyter Notebook и выполните задания.\n",
        "\n",
        "## Задача\n",
        "\n",
        "С набором данных вы уже знакомы из прошлого модуля — это данные по продажам домов. В этот раз признаков будет чуть больше, чтобы вам было интереснее. Краткое описание признаков:\n",
        "\n",
        "* **LotArea** — размер участка в квадратных футах.\n",
        "* **LotArea_M** — размер участка в квадратных метрах.\n",
        "* **Street** — тип доступа к дороге.\n",
        "* **BldgType** — тип жилья.\n",
        "* **OverallQual** — общее качество материала и отделки.\n",
        "* **OverallCond** — общая оценка состояния.\n",
        "* **YearBuilt** — первоначальная дата постройки.\n",
        "* **YearRemodAdd** — дата реконструкции.\n",
        "* **RoofStyle** — тип крыши.\n",
        "* **ExterQual** — качество материалов снаружи.\n",
        "* **ExterCond** — текущее состояние материалов снаружи.\n",
        "* **Foundation** — тип фундамента.\n",
        "* **TotalBsmtSF** — общая площадь подвала в квадратных футах.\n",
        "* **TotalBsmtSF_M** — общая площадь подвала в квадратных метрах.\n",
        "* **Heating** — тип отопления.\n",
        "* **HeatingQC** — качество и состояние отопления.\n",
        "* **CentralAir** — кондиционирование.\n",
        "* **GrLivArea** — жилая площадь в квадратных футах.\n",
        "* **GrLivArea_M** — жилая площадь в квадратных метрах.\n",
        "* **Bath** — количество ванных комнат.\n",
        "* **KitchenQual** — качество кухни.\n",
        "* **GarageArea** — площадь гаража в квадратных футах.\n",
        "* **GarageArea_M** — площадь гаража в квадратных метрах.\n",
        "* **DateSold** — месяц и год продажи.\n",
        "* **SaleCondition** — условия сделки.\n",
        "* **SalePrice** — стоимость продажи в долларах. Это целевая переменная, которую нам нужно предсказать.\n",
        "\n",
        "Постройте модель линейной регрессии на этих данных. Проверьте качество модели на обучающей и тестовой выборках с помощью MAE, MSE, $R^2$. Определите, что модель не переобучилась."
      ]
    },
    {
      "cell_type": "markdown",
      "id": "9c2c7c33-6c9e-4e14-a6c0-dd9dde0ed1f8",
      "metadata": {
        "id": "9c2c7c33-6c9e-4e14-a6c0-dd9dde0ed1f8"
      },
      "source": [
        "## Задание 1 \n",
        "\n",
        "Подключите необходимые библиотеки."
      ]
    },
    {
      "cell_type": "code",
      "execution_count": 2,
      "id": "da8a3481-f88b-48e1-86d8-903da04333c0",
      "metadata": {
        "id": "da8a3481-f88b-48e1-86d8-903da04333c0"
      },
      "outputs": [],
      "source": [
        "### Ваш код здесь ###\n",
        "import pandas as pd\n",
        "import matplotlib.pyplot as plt\n",
        "import seaborn as sns"
      ]
    },
    {
      "cell_type": "markdown",
      "id": "938ffc98-b69b-4b91-b1bf-438631acef68",
      "metadata": {
        "id": "938ffc98-b69b-4b91-b1bf-438631acef68"
      },
      "source": [
        "## Задание 2\n",
        "\n",
        "Считайте данные и посмотрите на несколько строк."
      ]
    },
    {
      "cell_type": "code",
      "execution_count": 3,
      "id": "fc43662c-5d49-492b-9a2a-66b58b1b2656",
      "metadata": {
        "id": "fc43662c-5d49-492b-9a2a-66b58b1b2656"
      },
      "outputs": [],
      "source": [
        "### Ваш код здесь ###\n",
        "data = pd.read_csv(\"data.csv\")"
      ]
    },
    {
      "cell_type": "code",
      "execution_count": 4,
      "id": "93f5c0b9",
      "metadata": {},
      "outputs": [
        {
          "data": {
            "text/html": [
              "<div>\n",
              "<style scoped>\n",
              "    .dataframe tbody tr th:only-of-type {\n",
              "        vertical-align: middle;\n",
              "    }\n",
              "\n",
              "    .dataframe tbody tr th {\n",
              "        vertical-align: top;\n",
              "    }\n",
              "\n",
              "    .dataframe thead th {\n",
              "        text-align: right;\n",
              "    }\n",
              "</style>\n",
              "<table border=\"1\" class=\"dataframe\">\n",
              "  <thead>\n",
              "    <tr style=\"text-align: right;\">\n",
              "      <th></th>\n",
              "      <th>LotArea</th>\n",
              "      <th>LotArea_M</th>\n",
              "      <th>Street</th>\n",
              "      <th>BldgType</th>\n",
              "      <th>OverallQual</th>\n",
              "      <th>OverallCond</th>\n",
              "      <th>YearBuilt</th>\n",
              "      <th>YearRemodAdd</th>\n",
              "      <th>RoofStyle</th>\n",
              "      <th>ExterQual</th>\n",
              "      <th>...</th>\n",
              "      <th>CentralAir</th>\n",
              "      <th>GrLivArea</th>\n",
              "      <th>GrLivArea_M</th>\n",
              "      <th>Bath</th>\n",
              "      <th>KitchenQual</th>\n",
              "      <th>GarageArea</th>\n",
              "      <th>GarageArea_M</th>\n",
              "      <th>DateSold</th>\n",
              "      <th>SaleCondition</th>\n",
              "      <th>SalePrice</th>\n",
              "    </tr>\n",
              "  </thead>\n",
              "  <tbody>\n",
              "    <tr>\n",
              "      <th>0</th>\n",
              "      <td>8450</td>\n",
              "      <td>785.03035</td>\n",
              "      <td>Pave</td>\n",
              "      <td>1Fam</td>\n",
              "      <td>7</td>\n",
              "      <td>5</td>\n",
              "      <td>2003</td>\n",
              "      <td>2003</td>\n",
              "      <td>Gable</td>\n",
              "      <td>Gd</td>\n",
              "      <td>...</td>\n",
              "      <td>Y</td>\n",
              "      <td>1710</td>\n",
              "      <td>158.864130</td>\n",
              "      <td>3</td>\n",
              "      <td>Gd</td>\n",
              "      <td>548</td>\n",
              "      <td>50.910844</td>\n",
              "      <td>2/2008</td>\n",
              "      <td>Normal</td>\n",
              "      <td>208500</td>\n",
              "    </tr>\n",
              "    <tr>\n",
              "      <th>1</th>\n",
              "      <td>9600</td>\n",
              "      <td>891.86880</td>\n",
              "      <td>Pave</td>\n",
              "      <td>1Fam</td>\n",
              "      <td>6</td>\n",
              "      <td>8</td>\n",
              "      <td>1976</td>\n",
              "      <td>1976</td>\n",
              "      <td>Gable</td>\n",
              "      <td>TA</td>\n",
              "      <td>...</td>\n",
              "      <td>Y</td>\n",
              "      <td>1262</td>\n",
              "      <td>117.243586</td>\n",
              "      <td>2</td>\n",
              "      <td>TA</td>\n",
              "      <td>460</td>\n",
              "      <td>42.735380</td>\n",
              "      <td>5/2007</td>\n",
              "      <td>Normal</td>\n",
              "      <td>181500</td>\n",
              "    </tr>\n",
              "    <tr>\n",
              "      <th>2</th>\n",
              "      <td>11250</td>\n",
              "      <td>1045.15875</td>\n",
              "      <td>Pave</td>\n",
              "      <td>1Fam</td>\n",
              "      <td>7</td>\n",
              "      <td>5</td>\n",
              "      <td>2001</td>\n",
              "      <td>2002</td>\n",
              "      <td>Gable</td>\n",
              "      <td>Gd</td>\n",
              "      <td>...</td>\n",
              "      <td>Y</td>\n",
              "      <td>1786</td>\n",
              "      <td>165.924758</td>\n",
              "      <td>3</td>\n",
              "      <td>Gd</td>\n",
              "      <td>608</td>\n",
              "      <td>56.485024</td>\n",
              "      <td>9/2008</td>\n",
              "      <td>Normal</td>\n",
              "      <td>223500</td>\n",
              "    </tr>\n",
              "    <tr>\n",
              "      <th>3</th>\n",
              "      <td>9550</td>\n",
              "      <td>887.22365</td>\n",
              "      <td>Pave</td>\n",
              "      <td>1Fam</td>\n",
              "      <td>7</td>\n",
              "      <td>5</td>\n",
              "      <td>1915</td>\n",
              "      <td>1970</td>\n",
              "      <td>Gable</td>\n",
              "      <td>TA</td>\n",
              "      <td>...</td>\n",
              "      <td>Y</td>\n",
              "      <td>1717</td>\n",
              "      <td>159.514451</td>\n",
              "      <td>1</td>\n",
              "      <td>Gd</td>\n",
              "      <td>642</td>\n",
              "      <td>59.643726</td>\n",
              "      <td>2/2006</td>\n",
              "      <td>Abnorml</td>\n",
              "      <td>140000</td>\n",
              "    </tr>\n",
              "    <tr>\n",
              "      <th>4</th>\n",
              "      <td>14260</td>\n",
              "      <td>1324.79678</td>\n",
              "      <td>Pave</td>\n",
              "      <td>1Fam</td>\n",
              "      <td>8</td>\n",
              "      <td>5</td>\n",
              "      <td>2000</td>\n",
              "      <td>2000</td>\n",
              "      <td>Gable</td>\n",
              "      <td>Gd</td>\n",
              "      <td>...</td>\n",
              "      <td>Y</td>\n",
              "      <td>2198</td>\n",
              "      <td>204.200794</td>\n",
              "      <td>3</td>\n",
              "      <td>Gd</td>\n",
              "      <td>836</td>\n",
              "      <td>77.666908</td>\n",
              "      <td>12/2008</td>\n",
              "      <td>Normal</td>\n",
              "      <td>250000</td>\n",
              "    </tr>\n",
              "  </tbody>\n",
              "</table>\n",
              "<p>5 rows × 26 columns</p>\n",
              "</div>"
            ],
            "text/plain": [
              "   LotArea   LotArea_M Street BldgType  OverallQual  OverallCond  YearBuilt  \\\n",
              "0     8450   785.03035   Pave     1Fam            7            5       2003   \n",
              "1     9600   891.86880   Pave     1Fam            6            8       1976   \n",
              "2    11250  1045.15875   Pave     1Fam            7            5       2001   \n",
              "3     9550   887.22365   Pave     1Fam            7            5       1915   \n",
              "4    14260  1324.79678   Pave     1Fam            8            5       2000   \n",
              "\n",
              "   YearRemodAdd RoofStyle ExterQual  ... CentralAir GrLivArea  GrLivArea_M  \\\n",
              "0          2003     Gable        Gd  ...          Y      1710   158.864130   \n",
              "1          1976     Gable        TA  ...          Y      1262   117.243586   \n",
              "2          2002     Gable        Gd  ...          Y      1786   165.924758   \n",
              "3          1970     Gable        TA  ...          Y      1717   159.514451   \n",
              "4          2000     Gable        Gd  ...          Y      2198   204.200794   \n",
              "\n",
              "   Bath KitchenQual GarageArea GarageArea_M  DateSold  SaleCondition  \\\n",
              "0     3          Gd        548    50.910844    2/2008         Normal   \n",
              "1     2          TA        460    42.735380    5/2007         Normal   \n",
              "2     3          Gd        608    56.485024    9/2008         Normal   \n",
              "3     1          Gd        642    59.643726    2/2006        Abnorml   \n",
              "4     3          Gd        836    77.666908   12/2008         Normal   \n",
              "\n",
              "   SalePrice  \n",
              "0     208500  \n",
              "1     181500  \n",
              "2     223500  \n",
              "3     140000  \n",
              "4     250000  \n",
              "\n",
              "[5 rows x 26 columns]"
            ]
          },
          "execution_count": 4,
          "metadata": {},
          "output_type": "execute_result"
        }
      ],
      "source": [
        "data.head()"
      ]
    },
    {
      "cell_type": "code",
      "execution_count": 6,
      "id": "676393bd",
      "metadata": {},
      "outputs": [
        {
          "name": "stdout",
          "output_type": "stream",
          "text": [
            "<class 'pandas.core.frame.DataFrame'>\n",
            "RangeIndex: 1460 entries, 0 to 1459\n",
            "Data columns (total 26 columns):\n",
            " #   Column         Non-Null Count  Dtype  \n",
            "---  ------         --------------  -----  \n",
            " 0   LotArea        1460 non-null   int64  \n",
            " 1   LotArea_M      1460 non-null   float64\n",
            " 2   Street         1460 non-null   object \n",
            " 3   BldgType       1460 non-null   object \n",
            " 4   OverallQual    1460 non-null   int64  \n",
            " 5   OverallCond    1460 non-null   int64  \n",
            " 6   YearBuilt      1460 non-null   int64  \n",
            " 7   YearRemodAdd   1460 non-null   int64  \n",
            " 8   RoofStyle      1460 non-null   object \n",
            " 9   ExterQual      1460 non-null   object \n",
            " 10  ExterCond      1460 non-null   object \n",
            " 11  Foundation     1460 non-null   object \n",
            " 12  TotalBsmtSF    1460 non-null   int64  \n",
            " 13  TotalBsmtSF_M  1460 non-null   float64\n",
            " 14  Heating        1460 non-null   object \n",
            " 15  HeatingQC      1460 non-null   object \n",
            " 16  CentralAir     1460 non-null   object \n",
            " 17  GrLivArea      1460 non-null   int64  \n",
            " 18  GrLivArea_M    1460 non-null   float64\n",
            " 19  Bath           1460 non-null   int64  \n",
            " 20  KitchenQual    1460 non-null   object \n",
            " 21  GarageArea     1460 non-null   int64  \n",
            " 22  GarageArea_M   1460 non-null   float64\n",
            " 23  DateSold       1460 non-null   object \n",
            " 24  SaleCondition  1460 non-null   object \n",
            " 25  SalePrice      1460 non-null   int64  \n",
            "dtypes: float64(4), int64(10), object(12)\n",
            "memory usage: 296.7+ KB\n"
          ]
        }
      ],
      "source": [
        "data.info()"
      ]
    },
    {
      "cell_type": "markdown",
      "id": "19861b0c-dc8d-4c32-bac9-3e8c5aa0d16d",
      "metadata": {
        "id": "19861b0c-dc8d-4c32-bac9-3e8c5aa0d16d",
        "tags": []
      },
      "source": [
        "## Задание 3 \n",
        "\n",
        "Проведите разведочный анализ:\n",
        "\n",
        "1. Выведите описательные статистики для числовых признаков."
      ]
    },
    {
      "cell_type": "code",
      "execution_count": 55,
      "id": "ba5f939b-105b-4b33-99cf-703d6fb27ddb",
      "metadata": {
        "id": "ba5f939b-105b-4b33-99cf-703d6fb27ddb"
      },
      "outputs": [
        {
          "data": {
            "text/html": [
              "<div>\n",
              "<style scoped>\n",
              "    .dataframe tbody tr th:only-of-type {\n",
              "        vertical-align: middle;\n",
              "    }\n",
              "\n",
              "    .dataframe tbody tr th {\n",
              "        vertical-align: top;\n",
              "    }\n",
              "\n",
              "    .dataframe thead th {\n",
              "        text-align: right;\n",
              "    }\n",
              "</style>\n",
              "<table border=\"1\" class=\"dataframe\">\n",
              "  <thead>\n",
              "    <tr style=\"text-align: right;\">\n",
              "      <th></th>\n",
              "      <th>LotArea</th>\n",
              "      <th>OverallQual</th>\n",
              "      <th>OverallCond</th>\n",
              "      <th>YearBuilt</th>\n",
              "      <th>YearRemodAdd</th>\n",
              "      <th>TotalBsmtSF</th>\n",
              "      <th>GrLivArea</th>\n",
              "      <th>Bath</th>\n",
              "      <th>GarageArea</th>\n",
              "      <th>SalePrice</th>\n",
              "    </tr>\n",
              "  </thead>\n",
              "  <tbody>\n",
              "    <tr>\n",
              "      <th>count</th>\n",
              "      <td>1460.000000</td>\n",
              "      <td>1460.000000</td>\n",
              "      <td>1460.000000</td>\n",
              "      <td>1460.000000</td>\n",
              "      <td>1460.000000</td>\n",
              "      <td>1460.000000</td>\n",
              "      <td>1460.000000</td>\n",
              "      <td>1460.000000</td>\n",
              "      <td>1460.000000</td>\n",
              "      <td>1460.000000</td>\n",
              "    </tr>\n",
              "    <tr>\n",
              "      <th>mean</th>\n",
              "      <td>10516.828082</td>\n",
              "      <td>6.099315</td>\n",
              "      <td>5.575342</td>\n",
              "      <td>1971.267808</td>\n",
              "      <td>1984.865753</td>\n",
              "      <td>1057.429452</td>\n",
              "      <td>1515.463699</td>\n",
              "      <td>1.947945</td>\n",
              "      <td>472.980137</td>\n",
              "      <td>180921.195890</td>\n",
              "    </tr>\n",
              "    <tr>\n",
              "      <th>std</th>\n",
              "      <td>9981.264932</td>\n",
              "      <td>1.382997</td>\n",
              "      <td>1.112799</td>\n",
              "      <td>30.202904</td>\n",
              "      <td>20.645407</td>\n",
              "      <td>438.705324</td>\n",
              "      <td>525.480383</td>\n",
              "      <td>0.794965</td>\n",
              "      <td>213.804841</td>\n",
              "      <td>79442.502883</td>\n",
              "    </tr>\n",
              "    <tr>\n",
              "      <th>min</th>\n",
              "      <td>1300.000000</td>\n",
              "      <td>1.000000</td>\n",
              "      <td>1.000000</td>\n",
              "      <td>1872.000000</td>\n",
              "      <td>1950.000000</td>\n",
              "      <td>0.000000</td>\n",
              "      <td>334.000000</td>\n",
              "      <td>0.000000</td>\n",
              "      <td>0.000000</td>\n",
              "      <td>34900.000000</td>\n",
              "    </tr>\n",
              "    <tr>\n",
              "      <th>25%</th>\n",
              "      <td>7553.500000</td>\n",
              "      <td>5.000000</td>\n",
              "      <td>5.000000</td>\n",
              "      <td>1954.000000</td>\n",
              "      <td>1967.000000</td>\n",
              "      <td>795.750000</td>\n",
              "      <td>1129.500000</td>\n",
              "      <td>1.000000</td>\n",
              "      <td>334.500000</td>\n",
              "      <td>129975.000000</td>\n",
              "    </tr>\n",
              "    <tr>\n",
              "      <th>50%</th>\n",
              "      <td>9478.500000</td>\n",
              "      <td>6.000000</td>\n",
              "      <td>5.000000</td>\n",
              "      <td>1973.000000</td>\n",
              "      <td>1994.000000</td>\n",
              "      <td>991.500000</td>\n",
              "      <td>1464.000000</td>\n",
              "      <td>2.000000</td>\n",
              "      <td>480.000000</td>\n",
              "      <td>163000.000000</td>\n",
              "    </tr>\n",
              "    <tr>\n",
              "      <th>75%</th>\n",
              "      <td>11601.500000</td>\n",
              "      <td>7.000000</td>\n",
              "      <td>6.000000</td>\n",
              "      <td>2000.000000</td>\n",
              "      <td>2004.000000</td>\n",
              "      <td>1298.250000</td>\n",
              "      <td>1776.750000</td>\n",
              "      <td>3.000000</td>\n",
              "      <td>576.000000</td>\n",
              "      <td>214000.000000</td>\n",
              "    </tr>\n",
              "    <tr>\n",
              "      <th>max</th>\n",
              "      <td>215245.000000</td>\n",
              "      <td>10.000000</td>\n",
              "      <td>9.000000</td>\n",
              "      <td>2010.000000</td>\n",
              "      <td>2010.000000</td>\n",
              "      <td>6110.000000</td>\n",
              "      <td>5642.000000</td>\n",
              "      <td>4.000000</td>\n",
              "      <td>1418.000000</td>\n",
              "      <td>755000.000000</td>\n",
              "    </tr>\n",
              "  </tbody>\n",
              "</table>\n",
              "</div>"
            ],
            "text/plain": [
              "             LotArea  OverallQual  OverallCond    YearBuilt  YearRemodAdd  \\\n",
              "count    1460.000000  1460.000000  1460.000000  1460.000000   1460.000000   \n",
              "mean    10516.828082     6.099315     5.575342  1971.267808   1984.865753   \n",
              "std      9981.264932     1.382997     1.112799    30.202904     20.645407   \n",
              "min      1300.000000     1.000000     1.000000  1872.000000   1950.000000   \n",
              "25%      7553.500000     5.000000     5.000000  1954.000000   1967.000000   \n",
              "50%      9478.500000     6.000000     5.000000  1973.000000   1994.000000   \n",
              "75%     11601.500000     7.000000     6.000000  2000.000000   2004.000000   \n",
              "max    215245.000000    10.000000     9.000000  2010.000000   2010.000000   \n",
              "\n",
              "       TotalBsmtSF    GrLivArea         Bath   GarageArea      SalePrice  \n",
              "count  1460.000000  1460.000000  1460.000000  1460.000000    1460.000000  \n",
              "mean   1057.429452  1515.463699     1.947945   472.980137  180921.195890  \n",
              "std     438.705324   525.480383     0.794965   213.804841   79442.502883  \n",
              "min       0.000000   334.000000     0.000000     0.000000   34900.000000  \n",
              "25%     795.750000  1129.500000     1.000000   334.500000  129975.000000  \n",
              "50%     991.500000  1464.000000     2.000000   480.000000  163000.000000  \n",
              "75%    1298.250000  1776.750000     3.000000   576.000000  214000.000000  \n",
              "max    6110.000000  5642.000000     4.000000  1418.000000  755000.000000  "
            ]
          },
          "execution_count": 55,
          "metadata": {},
          "output_type": "execute_result"
        }
      ],
      "source": [
        "### Ваш код здесь ###\n",
        "numerical_columns = data.select_dtypes(include=['int64', 'float64']).columns\n",
        "data.describe()"
      ]
    },
    {
      "cell_type": "markdown",
      "id": "b8721c08-a48e-49b7-9fc1-ce2c048ad79a",
      "metadata": {
        "id": "b8721c08-a48e-49b7-9fc1-ce2c048ad79a"
      },
      "source": [
        "2. Постройте матрицу корреляций числовых признаков. Удалите линейно-зависимые признаки из данных."
      ]
    },
    {
      "cell_type": "code",
      "execution_count": 56,
      "id": "05419a99-e48f-4317-97bb-a109719fb5a8",
      "metadata": {
        "id": "05419a99-e48f-4317-97bb-a109719fb5a8"
      },
      "outputs": [
        {
          "data": {
            "image/png": "[encoded data removed]",
            "text/plain": [
              "<Figure size 1000x800 with 2 Axes>"
            ]
          },
          "metadata": {},
          "output_type": "display_data"
        }
      ],
      "source": [
        "### Ваш код здесь ###\n",
        "fig = plt.figure(figsize=(10, 8))\n",
        "sns.heatmap(\n",
        "    data[numerical_columns].corr(),\n",
        "    annot=True,\n",
        "    fmt='.1g'\n",
        "    );"
      ]
    },
    {
      "cell_type": "code",
      "execution_count": 45,
      "id": "1661a05e",
      "metadata": {},
      "outputs": [],
      "source": [
        "del_col = ['LotArea_M', \"GarageArea_M\", 'GrLivArea_M','TotalBsmtSF_M']\n",
        "data.drop(del_col, axis=1, inplace=True)"
      ]
    },
    {
      "cell_type": "markdown",
      "id": "ea738eb0-620a-485d-b6f1-496ca6d8a84b",
      "metadata": {
        "id": "ea738eb0-620a-485d-b6f1-496ca6d8a84b"
      },
      "source": [
        "3. Посмотрите на индивидуальные графики зависимости целевой функции и отдельной переменной."
      ]
    },
    {
      "cell_type": "code",
      "execution_count": null,
      "id": "90ef77d4-5389-4d0f-b301-46bd0714c839",
      "metadata": {
        "id": "90ef77d4-5389-4d0f-b301-46bd0714c839"
      },
      "outputs": [],
      "source": [
        "### Ваш код здесь ###\n",
        "numerical_columns = data.select_dtypes(include=['int64', 'float64']).columns\n",
        "\n",
        "target_column = 'SalePrice'\n",
        "#sns.pairplot(data[numerical_columns])\n",
        "for col in numerical_columns:\n",
        "    fig, ax = plt.subplots(figsize=(4,4))\n",
        "    ax.scatter(x=data[col], y=data[target_column])\n",
        "    ax.set(\n",
        "        xlabel=col,\n",
        "        ylabel=target_column)"
      ]
    },
    {
      "cell_type": "markdown",
      "id": "845062ba-12f6-4223-af6a-e3bde4600884",
      "metadata": {
        "id": "845062ba-12f6-4223-af6a-e3bde4600884"
      },
      "source": [
        "4. Сделайте предварительные выводы."
      ]
    },
    {
      "cell_type": "raw",
      "id": "85b0e832-f0e2-4b4f-96ca-acb18778b993",
      "metadata": {
        "id": "85b0e832-f0e2-4b4f-96ca-acb18778b993"
      },
      "source": [
        "### Ваш вывод здесь ###"
      ]
    },
    {
      "cell_type": "markdown",
      "id": "-j_hmvzusgX-",
      "metadata": {
        "id": "-j_hmvzusgX-"
      },
      "source": [
        "Заметим, что SalePrice коррелирует от OverallQual, GriLivArea, YearBuilt, YearRemodAdd, Bath, GarageArea"
      ]
    },
    {
      "cell_type": "markdown",
      "id": "dd39b555-b7ac-4fdc-b5c7-a47d6212973e",
      "metadata": {
        "id": "dd39b555-b7ac-4fdc-b5c7-a47d6212973e"
      },
      "source": [
        "5. Создайте дополнительные переменные из уже имеющихся, обоснуйте свои решения."
      ]
    },
    {
      "cell_type": "markdown",
      "id": "8FvPGyhdsfJK",
      "metadata": {
        "id": "8FvPGyhdsfJK"
      },
      "source": []
    },
    {
      "cell_type": "code",
      "execution_count": null,
      "id": "37651588-b300-4c53-96ed-80ad246bce6b",
      "metadata": {
        "id": "37651588-b300-4c53-96ed-80ad246bce6b"
      },
      "outputs": [],
      "source": [
        "### Ваш код здесь ###"
      ]
    },
    {
      "cell_type": "markdown",
      "id": "ec70509d-367d-4ed9-8d47-e2df22a18200",
      "metadata": {
        "id": "ec70509d-367d-4ed9-8d47-e2df22a18200",
        "tags": []
      },
      "source": [
        "## Задание 4 \n",
        "\n",
        "Подготовьте данные:\n",
        "\n",
        "1. Разделите данные на тренировочную и тестовую выборки."
      ]
    },
    {
      "cell_type": "code",
      "execution_count": 57,
      "id": "6d910f74-d622-479b-9e20-70f3c4a0034c",
      "metadata": {
        "id": "6d910f74-d622-479b-9e20-70f3c4a0034c"
      },
      "outputs": [],
      "source": [
        "### Ваш код здесь ###\n",
        "X = data.drop(target_column, axis=1).copy()\n",
        "y = data[target_column].copy()\n"
      ]
    },
    {
      "cell_type": "code",
      "execution_count": 58,
      "id": "7613e080",
      "metadata": {},
      "outputs": [],
      "source": [
        "from sklearn.model_selection import train_test_split"
      ]
    },
    {
      "cell_type": "code",
      "execution_count": 59,
      "id": "c64e1ed5",
      "metadata": {},
      "outputs": [],
      "source": [
        "X_train, X_test, y_train, y_test = train_test_split(X, y, test_size=0.3, random_state=42)"
      ]
    },
    {
      "cell_type": "code",
      "execution_count": 61,
      "id": "b41071ca",
      "metadata": {},
      "outputs": [
        {
          "name": "stdout",
          "output_type": "stream",
          "text": [
            "<class 'pandas.core.frame.DataFrame'>\n",
            "Index: 1022 entries, 135 to 1126\n",
            "Data columns (total 21 columns):\n",
            " #   Column         Non-Null Count  Dtype \n",
            "---  ------         --------------  ----- \n",
            " 0   LotArea        1022 non-null   int64 \n",
            " 1   Street         1022 non-null   object\n",
            " 2   BldgType       1022 non-null   object\n",
            " 3   OverallQual    1022 non-null   int64 \n",
            " 4   OverallCond    1022 non-null   int64 \n",
            " 5   YearBuilt      1022 non-null   int64 \n",
            " 6   YearRemodAdd   1022 non-null   int64 \n",
            " 7   RoofStyle      1022 non-null   object\n",
            " 8   ExterQual      1022 non-null   object\n",
            " 9   ExterCond      1022 non-null   object\n",
            " 10  Foundation     1022 non-null   object\n",
            " 11  TotalBsmtSF    1022 non-null   int64 \n",
            " 12  Heating        1022 non-null   object\n",
            " 13  HeatingQC      1022 non-null   object\n",
            " 14  CentralAir     1022 non-null   object\n",
            " 15  GrLivArea      1022 non-null   int64 \n",
            " 16  Bath           1022 non-null   int64 \n",
            " 17  KitchenQual    1022 non-null   object\n",
            " 18  GarageArea     1022 non-null   int64 \n",
            " 19  DateSold       1022 non-null   object\n",
            " 20  SaleCondition  1022 non-null   object\n",
            "dtypes: int64(9), object(12)\n",
            "memory usage: 175.7+ KB\n"
          ]
        }
      ],
      "source": [
        "X_train.info()"
      ]
    },
    {
      "cell_type": "markdown",
      "id": "94d02fe4-e8c8-4811-a735-1c4c5584beeb",
      "metadata": {
        "id": "94d02fe4-e8c8-4811-a735-1c4c5584beeb"
      },
      "source": [
        "2. Закодируйте категориальные признаки в тренировочной и тестовой выборках."
      ]
    },
    {
      "cell_type": "code",
      "execution_count": 62,
      "id": "5cb42508-2d98-4a40-bed3-039f9f8d7c24",
      "metadata": {
        "id": "5cb42508-2d98-4a40-bed3-039f9f8d7c24"
      },
      "outputs": [],
      "source": [
        "### Ваш код здесь ###\n",
        "cat_features = X_train.select_dtypes(include='O').columns\n",
        "num_columns = X_train.select_dtypes(include='int64').columns\n"
      ]
    },
    {
      "cell_type": "code",
      "execution_count": 64,
      "id": "ded13475",
      "metadata": {},
      "outputs": [],
      "source": [
        "from sklearn.preprocessing import OneHotEncoder, StandardScaler"
      ]
    },
    {
      "cell_type": "code",
      "execution_count": null,
      "id": "866cd559",
      "metadata": {},
      "outputs": [],
      "source": [
        "ohe = OneHotEncoder(sparse_output=False)\n",
        "ohe.fit(X_train[cat_features])\n",
        "X_train[ohe.get_feature_names_out()] = ohe.transform(X_train[cat_features])\n",
        "X_test[ohe.get_feature_names_out()] = ohe.transform(X_test[cat_features])\n",
        "X_train.drop(cat_features, axis=1, inplace=True)\n",
        "X_test.drop(cat_features, axis=1, inplace=True)\n"
      ]
    },
    {
      "cell_type": "markdown",
      "id": "4670a626-7720-4805-8fbc-5b7b851b765e",
      "metadata": {
        "id": "4670a626-7720-4805-8fbc-5b7b851b765e"
      },
      "source": [
        "3. Подготовьте числовые признаки в тренировочной и тестовой выборках к передаче в модель: приведите их к единому масштабу."
      ]
    },
    {
      "cell_type": "code",
      "execution_count": null,
      "id": "cbde2aef-6811-49ad-8048-ca0582052b0e",
      "metadata": {
        "id": "cbde2aef-6811-49ad-8048-ca0582052b0e"
      },
      "outputs": [],
      "source": [
        "### Ваш код здесь ###\n",
        "scaler = StandardScaler()\n",
        "\n",
        "X_train[num_columns] = scaler.fit_transform(X_train[num_columns])\n",
        "X_test[num_columns] = scaler.transform(X_test[num_columns])"
      ]
    },
    {
      "cell_type": "markdown",
      "id": "3e92d5ed-91c3-495e-a1c0-791a49917f9e",
      "metadata": {
        "id": "3e92d5ed-91c3-495e-a1c0-791a49917f9e",
        "tags": []
      },
      "source": [
        "## Задание 5\n",
        "\n",
        "Займитесь обучением модели:\n",
        "\n",
        "1. Обучите модель линейной регрессии без регуляризации. Посмотрите на веса полученной модели. Сделайте предсказания по обучающей и тестовой выборкам."
      ]
    },
    {
      "cell_type": "code",
      "execution_count": 82,
      "id": "351a0ffa-02af-4680-9c38-375fb5fcd63c",
      "metadata": {
        "id": "351a0ffa-02af-4680-9c38-375fb5fcd63c",
        "scrolled": true,
        "tags": []
      },
      "outputs": [],
      "source": [
        "### Ваш код здесь ###\n",
        "from sklearn.linear_model import LinearRegression, Lasso, Ridge"
      ]
    },
    {
      "cell_type": "code",
      "execution_count": 79,
      "id": "6d67ed12",
      "metadata": {},
      "outputs": [
        {
          "data": {
            "text/html": [
              "<style>#sk-container-id-1 {color: black;}#sk-container-id-1 pre{padding: 0;}#sk-container-id-1 div.sk-toggleable {background-color: white;}#sk-container-id-1 label.sk-toggleable__label {cursor: pointer;display: block;width: 100%;margin-bottom: 0;padding: 0.3em;box-sizing: border-box;text-align: center;}#sk-container-id-1 label.sk-toggleable__label-arrow:before {content: \"▸\";float: left;margin-right: 0.25em;color: #696969;}#sk-container-id-1 label.sk-toggleable__label-arrow:hover:before {color: black;}#sk-container-id-1 div.sk-estimator:hover label.sk-toggleable__label-arrow:before {color: black;}#sk-container-id-1 div.sk-toggleable__content {max-height: 0;max-width: 0;overflow: hidden;text-align: left;background-color: #f0f8ff;}#sk-container-id-1 div.sk-toggleable__content pre {margin: 0.2em;color: black;border-radius: 0.25em;background-color: #f0f8ff;}#sk-container-id-1 input.sk-toggleable__control:checked~div.sk-toggleable__content {max-height: 200px;max-width: 100%;overflow: auto;}#sk-container-id-1 input.sk-toggleable__control:checked~label.sk-toggleable__label-arrow:before {content: \"▾\";}#sk-container-id-1 div.sk-estimator input.sk-toggleable__control:checked~label.sk-toggleable__label {background-color: #d4ebff;}#sk-container-id-1 div.sk-label input.sk-toggleable__control:checked~label.sk-toggleable__label {background-color: #d4ebff;}#sk-container-id-1 input.sk-hidden--visually {border: 0;clip: rect(1px 1px 1px 1px);clip: rect(1px, 1px, 1px, 1px);height: 1px;margin: -1px;overflow: hidden;padding: 0;position: absolute;width: 1px;}#sk-container-id-1 div.sk-estimator {font-family: monospace;background-color: #f0f8ff;border: 1px dotted black;border-radius: 0.25em;box-sizing: border-box;margin-bottom: 0.5em;}#sk-container-id-1 div.sk-estimator:hover {background-color: #d4ebff;}#sk-container-id-1 div.sk-parallel-item::after {content: \"\";width: 100%;border-bottom: 1px solid gray;flex-grow: 1;}#sk-container-id-1 div.sk-label:hover label.sk-toggleable__label {background-color: #d4ebff;}#sk-container-id-1 div.sk-serial::before {content: \"\";position: absolute;border-left: 1px solid gray;box-sizing: border-box;top: 0;bottom: 0;left: 50%;z-index: 0;}#sk-container-id-1 div.sk-serial {display: flex;flex-direction: column;align-items: center;background-color: white;padding-right: 0.2em;padding-left: 0.2em;position: relative;}#sk-container-id-1 div.sk-item {position: relative;z-index: 1;}#sk-container-id-1 div.sk-parallel {display: flex;align-items: stretch;justify-content: center;background-color: white;position: relative;}#sk-container-id-1 div.sk-item::before, #sk-container-id-1 div.sk-parallel-item::before {content: \"\";position: absolute;border-left: 1px solid gray;box-sizing: border-box;top: 0;bottom: 0;left: 50%;z-index: -1;}#sk-container-id-1 div.sk-parallel-item {display: flex;flex-direction: column;z-index: 1;position: relative;background-color: white;}#sk-container-id-1 div.sk-parallel-item:first-child::after {align-self: flex-end;width: 50%;}#sk-container-id-1 div.sk-parallel-item:last-child::after {align-self: flex-start;width: 50%;}#sk-container-id-1 div.sk-parallel-item:only-child::after {width: 0;}#sk-container-id-1 div.sk-dashed-wrapped {border: 1px dashed gray;margin: 0 0.4em 0.5em 0.4em;box-sizing: border-box;padding-bottom: 0.4em;background-color: white;}#sk-container-id-1 div.sk-label label {font-family: monospace;font-weight: bold;display: inline-block;line-height: 1.2em;}#sk-container-id-1 div.sk-label-container {text-align: center;}#sk-container-id-1 div.sk-container {/* jupyter's `normalize.less` sets `[hidden] { display: none; }` but bootstrap.min.css set `[hidden] { display: none !important; }` so we also need the `!important` here to be able to override the default hidden behavior on the sphinx rendered scikit-learn.org. See: https://github.com/scikit-learn/scikit-learn/issues/21755 */display: inline-block !important;position: relative;}#sk-container-id-1 div.sk-text-repr-fallback {display: none;}</style><div id=\"sk-container-id-1\" class=\"sk-top-container\"><div class=\"sk-text-repr-fallback\"><pre>LinearRegression()</pre><b>In a Jupyter environment, please rerun this cell to show the HTML representation or trust the notebook. <br />On GitHub, the HTML representation is unable to render, please try loading this page with nbviewer.org.</b></div><div class=\"sk-container\" hidden><div class=\"sk-item\"><div class=\"sk-estimator sk-toggleable\"><input class=\"sk-toggleable__control sk-hidden--visually\" id=\"sk-estimator-id-1\" type=\"checkbox\" checked><label for=\"sk-estimator-id-1\" class=\"sk-toggleable__label sk-toggleable__label-arrow\">LinearRegression</label><div class=\"sk-toggleable__content\"><pre>LinearRegression()</pre></div></div></div></div></div>"
            ],
            "text/plain": [
              "LinearRegression()"
            ]
          },
          "execution_count": 79,
          "metadata": {},
          "output_type": "execute_result"
        }
      ],
      "source": [
        "lin_reg = LinearRegression()\n",
        "lin_reg.fit(X_train, y_train)"
      ]
    },
    {
      "cell_type": "code",
      "execution_count": 80,
      "id": "eff64cd0",
      "metadata": {},
      "outputs": [],
      "source": [
        "from sklearn.metrics import r2_score, mean_absolute_error, mean_squared_error\n",
        "\n",
        "def metric_model(y_true, y_pred):\n",
        "    print(f\"MAE = {mean_absolute_error(y_true, y_pred)}\")\n",
        "    print(f\"MSE = {mean_squared_error(y_true, y_pred)}\")\n",
        "    print(f\"R2 = {r2_score(y_true, y_pred)}\")\n",
        "    "
      ]
    },
    {
      "cell_type": "code",
      "execution_count": 81,
      "id": "60fe8272",
      "metadata": {},
      "outputs": [
        {
          "name": "stdout",
          "output_type": "stream",
          "text": [
            "MAE = 22414.68493150685\n",
            "MSE = 1181846348.497717\n",
            "R2 = 0.8306347852312849\n"
          ]
        }
      ],
      "source": [
        "pred_lin_reg = lin_reg.predict(X_test)\n",
        "metric_model(y_test, pred_lin_reg)"
      ]
    },
    {
      "cell_type": "markdown",
      "id": "106d8157-9c34-48bc-b98b-200947c11fda",
      "metadata": {
        "id": "106d8157-9c34-48bc-b98b-200947c11fda"
      },
      "source": [
        "2. Понаблюдайте, как ведёт себя модель с L1-регуляризацией (Lasso). Найдите лучший параметр регуляризации. Сделайте предсказания по обучающей и тестовой выборкам, замерьте качество с помощью MAE, MSE, $R^2$. Для воспроизводимости результатов задайте параметр `random_state=42` при определении модели Lasso."
      ]
    },
    {
      "cell_type": "code",
      "execution_count": 84,
      "id": "ef66178c-2aab-4f34-940b-415f8d11578f",
      "metadata": {
        "id": "ef66178c-2aab-4f34-940b-415f8d11578f"
      },
      "outputs": [
        {
          "name": "stderr",
          "output_type": "stream",
          "text": [
            "c:\\Users\\lorex\\anaconda3\\envs\\DataScience\\Lib\\site-packages\\sklearn\\linear_model\\_coordinate_descent.py:628: ConvergenceWarning: Objective did not converge. You might want to increase the number of iterations, check the scale of the features or consider increasing regularisation. Duality gap: 2.856e+11, tolerance: 6.151e+08\n",
            "  model = cd_fast.enet_coordinate_descent(\n",
            "c:\\Users\\lorex\\anaconda3\\envs\\DataScience\\Lib\\site-packages\\sklearn\\linear_model\\_coordinate_descent.py:628: ConvergenceWarning: Objective did not converge. You might want to increase the number of iterations, check the scale of the features or consider increasing regularisation. Duality gap: 2.856e+11, tolerance: 6.151e+08\n",
            "  model = cd_fast.enet_coordinate_descent(\n",
            "c:\\Users\\lorex\\anaconda3\\envs\\DataScience\\Lib\\site-packages\\sklearn\\linear_model\\_coordinate_descent.py:628: ConvergenceWarning: Objective did not converge. You might want to increase the number of iterations, check the scale of the features or consider increasing regularisation. Duality gap: 2.443e+11, tolerance: 6.151e+08\n",
            "  model = cd_fast.enet_coordinate_descent(\n",
            "c:\\Users\\lorex\\anaconda3\\envs\\DataScience\\Lib\\site-packages\\sklearn\\linear_model\\_coordinate_descent.py:628: ConvergenceWarning: Objective did not converge. You might want to increase the number of iterations, check the scale of the features or consider increasing regularisation. Duality gap: 1.121e+11, tolerance: 6.151e+08\n",
            "  model = cd_fast.enet_coordinate_descent(\n"
          ]
        },
        {
          "name": "stdout",
          "output_type": "stream",
          "text": [
            "lambda = 0.0001\n",
            "0.8114380910705213\n",
            "0.8306552625506536\n",
            "lambda = 0.001\n",
            "0.8114380910680374\n",
            "0.8306554802417688\n",
            "lambda = 0.01\n",
            "0.8114380908194287\n",
            "0.8306575909335794\n",
            "lambda = 0.1\n",
            "0.8114380655086786\n",
            "0.8306796357501511\n",
            "lambda = 1\n",
            "0.8114355403403508\n",
            "0.8308853890454917\n",
            "lambda = 10\n",
            "0.8112341847627023\n",
            "0.8327964602315419\n",
            "lambda = 100\n",
            "0.804361914900557\n",
            "0.8403196405655884\n",
            "lambda = 1000\n",
            "0.7868517779086561\n",
            "0.8293160894526981\n",
            "lambda = 10000\n",
            "0.7176330603701695\n",
            "0.7470206602821605\n"
          ]
        }
      ],
      "source": [
        "### Ваш код здесь ###\n",
        "coef = []\n",
        "\n",
        "for i in range(-4, 5):\n",
        "    alpha = 10 ** i\n",
        "    lasso_reg = Lasso(alpha=alpha, max_iter=1000, random_state=42)\n",
        "    lasso_reg.fit(X_train, y_train)\n",
        "    coef.append(list(lasso_reg.coef_))\n",
        "    \n",
        "    print(f\"lambda = {alpha}\")\n",
        "    print(lasso_reg.score(X_train, y_train))\n",
        "    print(lasso_reg.score(X_test, y_test))\n",
        "    "
      ]
    },
    {
      "cell_type": "markdown",
      "id": "e61717db-f329-487e-9207-c71e696caad1",
      "metadata": {
        "id": "e61717db-f329-487e-9207-c71e696caad1"
      },
      "source": [
        "Посмотрите на веса полученной модели. Какой вывод можно сделать?"
      ]
    },
    {
      "cell_type": "code",
      "execution_count": 90,
      "id": "a47bb3a1",
      "metadata": {},
      "outputs": [
        {
          "data": {
            "text/plain": [
              "<Axes: >"
            ]
          },
          "execution_count": 90,
          "metadata": {},
          "output_type": "execute_result"
        },
        {
          "data": {
            "image/png": "[encoded data removed]",
            "text/plain": [
              "<Figure size 640x480 with 1 Axes>"
            ]
          },
          "metadata": {},
          "output_type": "display_data"
        }
      ],
      "source": [
        "coef_df = pd.DataFrame(coef, columns=X_train.columns)\n",
        "coef_df.plot(legend=False)"
      ]
    },
    {
      "cell_type": "code",
      "execution_count": 94,
      "id": "d2ab5c84",
      "metadata": {},
      "outputs": [
        {
          "data": {
            "text/html": [
              "<div>\n",
              "<style scoped>\n",
              "    .dataframe tbody tr th:only-of-type {\n",
              "        vertical-align: middle;\n",
              "    }\n",
              "\n",
              "    .dataframe tbody tr th {\n",
              "        vertical-align: top;\n",
              "    }\n",
              "\n",
              "    .dataframe thead th {\n",
              "        text-align: right;\n",
              "    }\n",
              "</style>\n",
              "<table border=\"1\" class=\"dataframe\">\n",
              "  <thead>\n",
              "    <tr style=\"text-align: right;\">\n",
              "      <th></th>\n",
              "      <th>LotArea</th>\n",
              "      <th>OverallQual</th>\n",
              "      <th>OverallCond</th>\n",
              "      <th>YearBuilt</th>\n",
              "      <th>YearRemodAdd</th>\n",
              "      <th>TotalBsmtSF</th>\n",
              "      <th>GrLivArea</th>\n",
              "      <th>Bath</th>\n",
              "      <th>GarageArea</th>\n",
              "      <th>Street_Grvl</th>\n",
              "      <th>...</th>\n",
              "      <th>DateSold_9/2006</th>\n",
              "      <th>DateSold_9/2007</th>\n",
              "      <th>DateSold_9/2008</th>\n",
              "      <th>DateSold_9/2009</th>\n",
              "      <th>SaleCondition_Abnorml</th>\n",
              "      <th>SaleCondition_AdjLand</th>\n",
              "      <th>SaleCondition_Alloca</th>\n",
              "      <th>SaleCondition_Family</th>\n",
              "      <th>SaleCondition_Normal</th>\n",
              "      <th>SaleCondition_Partial</th>\n",
              "    </tr>\n",
              "  </thead>\n",
              "  <tbody>\n",
              "    <tr>\n",
              "      <th>0</th>\n",
              "      <td>6613.761834</td>\n",
              "      <td>21098.384927</td>\n",
              "      <td>5372.498583</td>\n",
              "      <td>11543.773688</td>\n",
              "      <td>586.124055</td>\n",
              "      <td>5616.501036</td>\n",
              "      <td>22817.108852</td>\n",
              "      <td>1219.263822</td>\n",
              "      <td>7043.917289</td>\n",
              "      <td>-4268.823862</td>\n",
              "      <td>...</td>\n",
              "      <td>-2675.115040</td>\n",
              "      <td>-13326.584737</td>\n",
              "      <td>3924.952398</td>\n",
              "      <td>-290.834684</td>\n",
              "      <td>-9918.391716</td>\n",
              "      <td>7915.882168</td>\n",
              "      <td>46301.916482</td>\n",
              "      <td>-9754.161060</td>\n",
              "      <td>-4305.799645</td>\n",
              "      <td>4208.010298</td>\n",
              "    </tr>\n",
              "    <tr>\n",
              "      <th>1</th>\n",
              "      <td>6613.760100</td>\n",
              "      <td>21098.372980</td>\n",
              "      <td>5372.487591</td>\n",
              "      <td>11543.770169</td>\n",
              "      <td>586.127979</td>\n",
              "      <td>5616.503613</td>\n",
              "      <td>22817.101396</td>\n",
              "      <td>1219.268461</td>\n",
              "      <td>7043.910087</td>\n",
              "      <td>-4268.515688</td>\n",
              "      <td>...</td>\n",
              "      <td>-2658.436453</td>\n",
              "      <td>-13309.785846</td>\n",
              "      <td>3941.462750</td>\n",
              "      <td>-274.152496</td>\n",
              "      <td>-9918.329825</td>\n",
              "      <td>7915.572376</td>\n",
              "      <td>46301.600873</td>\n",
              "      <td>-9754.125683</td>\n",
              "      <td>-4305.770533</td>\n",
              "      <td>4208.030448</td>\n",
              "    </tr>\n",
              "    <tr>\n",
              "      <th>2</th>\n",
              "      <td>6613.740622</td>\n",
              "      <td>21098.252747</td>\n",
              "      <td>5372.388427</td>\n",
              "      <td>11543.724878</td>\n",
              "      <td>586.168321</td>\n",
              "      <td>5616.528323</td>\n",
              "      <td>22817.032080</td>\n",
              "      <td>1219.309600</td>\n",
              "      <td>7043.832871</td>\n",
              "      <td>-4265.400839</td>\n",
              "      <td>...</td>\n",
              "      <td>-2491.670427</td>\n",
              "      <td>-13141.832971</td>\n",
              "      <td>4106.542650</td>\n",
              "      <td>-107.322375</td>\n",
              "      <td>-9917.714455</td>\n",
              "      <td>7912.490031</td>\n",
              "      <td>46298.517781</td>\n",
              "      <td>-9753.751007</td>\n",
              "      <td>-4305.476661</td>\n",
              "      <td>4208.228480</td>\n",
              "    </tr>\n",
              "    <tr>\n",
              "      <th>3</th>\n",
              "      <td>6613.550296</td>\n",
              "      <td>21097.087686</td>\n",
              "      <td>5371.353609</td>\n",
              "      <td>11543.266999</td>\n",
              "      <td>586.683233</td>\n",
              "      <td>5616.628394</td>\n",
              "      <td>22816.339337</td>\n",
              "      <td>1219.669848</td>\n",
              "      <td>7042.970863</td>\n",
              "      <td>-4234.841229</td>\n",
              "      <td>...</td>\n",
              "      <td>-1775.034851</td>\n",
              "      <td>-12413.361843</td>\n",
              "      <td>4805.976625</td>\n",
              "      <td>592.315431</td>\n",
              "      <td>-9911.498503</td>\n",
              "      <td>7881.282463</td>\n",
              "      <td>46267.295353</td>\n",
              "      <td>-9750.147177</td>\n",
              "      <td>-4302.815456</td>\n",
              "      <td>4210.490344</td>\n",
              "    </tr>\n",
              "    <tr>\n",
              "      <th>4</th>\n",
              "      <td>6612.355083</td>\n",
              "      <td>21084.574174</td>\n",
              "      <td>5365.475676</td>\n",
              "      <td>11547.398335</td>\n",
              "      <td>593.627363</td>\n",
              "      <td>5610.685240</td>\n",
              "      <td>22818.870817</td>\n",
              "      <td>1216.362625</td>\n",
              "      <td>7037.496019</td>\n",
              "      <td>-3913.612575</td>\n",
              "      <td>...</td>\n",
              "      <td>-830.100591</td>\n",
              "      <td>-11365.979481</td>\n",
              "      <td>5565.086685</td>\n",
              "      <td>1382.730663</td>\n",
              "      <td>-9848.800820</td>\n",
              "      <td>7528.865396</td>\n",
              "      <td>45971.469662</td>\n",
              "      <td>-9710.509155</td>\n",
              "      <td>-4274.583523</td>\n",
              "      <td>4231.501783</td>\n",
              "    </tr>\n",
              "    <tr>\n",
              "      <th>5</th>\n",
              "      <td>6616.621320</td>\n",
              "      <td>20975.961876</td>\n",
              "      <td>5294.653296</td>\n",
              "      <td>11545.945159</td>\n",
              "      <td>651.947952</td>\n",
              "      <td>5555.367047</td>\n",
              "      <td>22838.607532</td>\n",
              "      <td>1196.789439</td>\n",
              "      <td>7011.967033</td>\n",
              "      <td>-981.209949</td>\n",
              "      <td>...</td>\n",
              "      <td>-0.000000</td>\n",
              "      <td>-9330.151609</td>\n",
              "      <td>4796.679304</td>\n",
              "      <td>892.318377</td>\n",
              "      <td>-9278.958698</td>\n",
              "      <td>4366.795593</td>\n",
              "      <td>43027.602347</td>\n",
              "      <td>-9298.296867</td>\n",
              "      <td>-3996.071070</td>\n",
              "      <td>4443.841912</td>\n",
              "    </tr>\n",
              "    <tr>\n",
              "      <th>6</th>\n",
              "      <td>6994.676077</td>\n",
              "      <td>20834.380611</td>\n",
              "      <td>4873.524413</td>\n",
              "      <td>11813.821917</td>\n",
              "      <td>772.473471</td>\n",
              "      <td>5178.982781</td>\n",
              "      <td>22625.650763</td>\n",
              "      <td>1115.986756</td>\n",
              "      <td>7317.234429</td>\n",
              "      <td>-0.000000</td>\n",
              "      <td>...</td>\n",
              "      <td>-0.000000</td>\n",
              "      <td>-0.000000</td>\n",
              "      <td>0.000000</td>\n",
              "      <td>0.000000</td>\n",
              "      <td>-3309.174091</td>\n",
              "      <td>0.000000</td>\n",
              "      <td>21374.359076</td>\n",
              "      <td>-3023.625743</td>\n",
              "      <td>-0.000000</td>\n",
              "      <td>6923.747823</td>\n",
              "    </tr>\n",
              "    <tr>\n",
              "      <th>7</th>\n",
              "      <td>6388.722299</td>\n",
              "      <td>23997.213323</td>\n",
              "      <td>3210.351506</td>\n",
              "      <td>11393.385776</td>\n",
              "      <td>2862.719808</td>\n",
              "      <td>5872.092882</td>\n",
              "      <td>23173.841505</td>\n",
              "      <td>0.000000</td>\n",
              "      <td>8313.400593</td>\n",
              "      <td>-0.000000</td>\n",
              "      <td>...</td>\n",
              "      <td>0.000000</td>\n",
              "      <td>-0.000000</td>\n",
              "      <td>0.000000</td>\n",
              "      <td>0.000000</td>\n",
              "      <td>-0.000000</td>\n",
              "      <td>0.000000</td>\n",
              "      <td>0.000000</td>\n",
              "      <td>-0.000000</td>\n",
              "      <td>-0.000000</td>\n",
              "      <td>0.000000</td>\n",
              "    </tr>\n",
              "    <tr>\n",
              "      <th>8</th>\n",
              "      <td>0.000000</td>\n",
              "      <td>29892.605993</td>\n",
              "      <td>0.000000</td>\n",
              "      <td>3318.417726</td>\n",
              "      <td>1654.674576</td>\n",
              "      <td>5648.636935</td>\n",
              "      <td>18698.437817</td>\n",
              "      <td>0.000000</td>\n",
              "      <td>7745.803576</td>\n",
              "      <td>0.000000</td>\n",
              "      <td>...</td>\n",
              "      <td>0.000000</td>\n",
              "      <td>-0.000000</td>\n",
              "      <td>-0.000000</td>\n",
              "      <td>0.000000</td>\n",
              "      <td>-0.000000</td>\n",
              "      <td>-0.000000</td>\n",
              "      <td>0.000000</td>\n",
              "      <td>-0.000000</td>\n",
              "      <td>-0.000000</td>\n",
              "      <td>0.000000</td>\n",
              "    </tr>\n",
              "  </tbody>\n",
              "</table>\n",
              "<p>9 rows × 115 columns</p>\n",
              "</div>"
            ],
            "text/plain": [
              "       LotArea   OverallQual  OverallCond     YearBuilt  YearRemodAdd  \\\n",
              "0  6613.761834  21098.384927  5372.498583  11543.773688    586.124055   \n",
              "1  6613.760100  21098.372980  5372.487591  11543.770169    586.127979   \n",
              "2  6613.740622  21098.252747  5372.388427  11543.724878    586.168321   \n",
              "3  6613.550296  21097.087686  5371.353609  11543.266999    586.683233   \n",
              "4  6612.355083  21084.574174  5365.475676  11547.398335    593.627363   \n",
              "5  6616.621320  20975.961876  5294.653296  11545.945159    651.947952   \n",
              "6  6994.676077  20834.380611  4873.524413  11813.821917    772.473471   \n",
              "7  6388.722299  23997.213323  3210.351506  11393.385776   2862.719808   \n",
              "8     0.000000  29892.605993     0.000000   3318.417726   1654.674576   \n",
              "\n",
              "   TotalBsmtSF     GrLivArea         Bath   GarageArea  Street_Grvl  ...  \\\n",
              "0  5616.501036  22817.108852  1219.263822  7043.917289 -4268.823862  ...   \n",
              "1  5616.503613  22817.101396  1219.268461  7043.910087 -4268.515688  ...   \n",
              "2  5616.528323  22817.032080  1219.309600  7043.832871 -4265.400839  ...   \n",
              "3  5616.628394  22816.339337  1219.669848  7042.970863 -4234.841229  ...   \n",
              "4  5610.685240  22818.870817  1216.362625  7037.496019 -3913.612575  ...   \n",
              "5  5555.367047  22838.607532  1196.789439  7011.967033  -981.209949  ...   \n",
              "6  5178.982781  22625.650763  1115.986756  7317.234429    -0.000000  ...   \n",
              "7  5872.092882  23173.841505     0.000000  8313.400593    -0.000000  ...   \n",
              "8  5648.636935  18698.437817     0.000000  7745.803576     0.000000  ...   \n",
              "\n",
              "   DateSold_9/2006  DateSold_9/2007  DateSold_9/2008  DateSold_9/2009  \\\n",
              "0     -2675.115040    -13326.584737      3924.952398      -290.834684   \n",
              "1     -2658.436453    -13309.785846      3941.462750      -274.152496   \n",
              "2     -2491.670427    -13141.832971      4106.542650      -107.322375   \n",
              "3     -1775.034851    -12413.361843      4805.976625       592.315431   \n",
              "4      -830.100591    -11365.979481      5565.086685      1382.730663   \n",
              "5        -0.000000     -9330.151609      4796.679304       892.318377   \n",
              "6        -0.000000        -0.000000         0.000000         0.000000   \n",
              "7         0.000000        -0.000000         0.000000         0.000000   \n",
              "8         0.000000        -0.000000        -0.000000         0.000000   \n",
              "\n",
              "   SaleCondition_Abnorml  SaleCondition_AdjLand  SaleCondition_Alloca  \\\n",
              "0           -9918.391716            7915.882168          46301.916482   \n",
              "1           -9918.329825            7915.572376          46301.600873   \n",
              "2           -9917.714455            7912.490031          46298.517781   \n",
              "3           -9911.498503            7881.282463          46267.295353   \n",
              "4           -9848.800820            7528.865396          45971.469662   \n",
              "5           -9278.958698            4366.795593          43027.602347   \n",
              "6           -3309.174091               0.000000          21374.359076   \n",
              "7              -0.000000               0.000000              0.000000   \n",
              "8              -0.000000              -0.000000              0.000000   \n",
              "\n",
              "   SaleCondition_Family  SaleCondition_Normal  SaleCondition_Partial  \n",
              "0          -9754.161060          -4305.799645            4208.010298  \n",
              "1          -9754.125683          -4305.770533            4208.030448  \n",
              "2          -9753.751007          -4305.476661            4208.228480  \n",
              "3          -9750.147177          -4302.815456            4210.490344  \n",
              "4          -9710.509155          -4274.583523            4231.501783  \n",
              "5          -9298.296867          -3996.071070            4443.841912  \n",
              "6          -3023.625743             -0.000000            6923.747823  \n",
              "7             -0.000000             -0.000000               0.000000  \n",
              "8             -0.000000             -0.000000               0.000000  \n",
              "\n",
              "[9 rows x 115 columns]"
            ]
          },
          "execution_count": 94,
          "metadata": {},
          "output_type": "execute_result"
        }
      ],
      "source": [
        "coef_df"
      ]
    },
    {
      "cell_type": "raw",
      "id": "0248e8ee-b614-490b-95b2-080771d7de44",
      "metadata": {
        "id": "0248e8ee-b614-490b-95b2-080771d7de44"
      },
      "source": [
        "### Ваш вывод здесь ###"
      ]
    },
    {
      "cell_type": "markdown",
      "id": "e6705d74-18e1-4de6-9002-9e1cb2cb5868",
      "metadata": {
        "id": "e6705d74-18e1-4de6-9002-9e1cb2cb5868"
      },
      "source": [
        "3. Понаблюдайте, как ведёт себя модель с L2-регуляризацией (Ridge). Найдите лучший параметр регуляризации. Сделайте предсказания по обучающей и тестовой выборкам, замерьте качество с помощью MAE, MSE, $R^2$. Для воспроизводимости результатов задайте параметр `random_state=42` при определении модели Ridge."
      ]
    },
    {
      "cell_type": "code",
      "execution_count": 113,
      "id": "2d85fb11-2a4f-4d70-bcd9-3380ca172ca7",
      "metadata": {
        "id": "2d85fb11-2a4f-4d70-bcd9-3380ca172ca7"
      },
      "outputs": [
        {
          "name": "stdout",
          "output_type": "stream",
          "text": [
            "(10, 0.841471612419054)\n"
          ]
        },
        {
          "data": {
            "text/plain": [
              "10"
            ]
          },
          "execution_count": 113,
          "metadata": {},
          "output_type": "execute_result"
        }
      ],
      "source": [
        "### Ваш код здесь ###\n",
        "\n",
        "### Ваш код здесь ###\n",
        "\n",
        "score = []\n",
        "\n",
        "for i in range(-4, 5):\n",
        "    alpha = 10 ** i\n",
        "    ridge_reg = Ridge(alpha=alpha, max_iter=1000, random_state=42)\n",
        "    ridge_reg.fit(X_train, y_train)\n",
        "    \n",
        "    #print(f\"lambda = {alpha}\")\n",
        "    #print(ridge_reg.score(X_train, y_train))\n",
        "    score.append((alpha, ridge_reg.score(X_test, y_test)))\n",
        "    #print(ridge_reg.score(X_test, y_test))\n",
        "    \n",
        "print(max(score, key=lambda x: x[1]))\n",
        "best_alpha = max(score, key=lambda x: x[1])[0]"
      ]
    },
    {
      "cell_type": "code",
      "execution_count": 114,
      "id": "8d1cab5c",
      "metadata": {},
      "outputs": [
        {
          "data": {
            "text/html": [
              "<style>#sk-container-id-2 {color: black;}#sk-container-id-2 pre{padding: 0;}#sk-container-id-2 div.sk-toggleable {background-color: white;}#sk-container-id-2 label.sk-toggleable__label {cursor: pointer;display: block;width: 100%;margin-bottom: 0;padding: 0.3em;box-sizing: border-box;text-align: center;}#sk-container-id-2 label.sk-toggleable__label-arrow:before {content: \"▸\";float: left;margin-right: 0.25em;color: #696969;}#sk-container-id-2 label.sk-toggleable__label-arrow:hover:before {color: black;}#sk-container-id-2 div.sk-estimator:hover label.sk-toggleable__label-arrow:before {color: black;}#sk-container-id-2 div.sk-toggleable__content {max-height: 0;max-width: 0;overflow: hidden;text-align: left;background-color: #f0f8ff;}#sk-container-id-2 div.sk-toggleable__content pre {margin: 0.2em;color: black;border-radius: 0.25em;background-color: #f0f8ff;}#sk-container-id-2 input.sk-toggleable__control:checked~div.sk-toggleable__content {max-height: 200px;max-width: 100%;overflow: auto;}#sk-container-id-2 input.sk-toggleable__control:checked~label.sk-toggleable__label-arrow:before {content: \"▾\";}#sk-container-id-2 div.sk-estimator input.sk-toggleable__control:checked~label.sk-toggleable__label {background-color: #d4ebff;}#sk-container-id-2 div.sk-label input.sk-toggleable__control:checked~label.sk-toggleable__label {background-color: #d4ebff;}#sk-container-id-2 input.sk-hidden--visually {border: 0;clip: rect(1px 1px 1px 1px);clip: rect(1px, 1px, 1px, 1px);height: 1px;margin: -1px;overflow: hidden;padding: 0;position: absolute;width: 1px;}#sk-container-id-2 div.sk-estimator {font-family: monospace;background-color: #f0f8ff;border: 1px dotted black;border-radius: 0.25em;box-sizing: border-box;margin-bottom: 0.5em;}#sk-container-id-2 div.sk-estimator:hover {background-color: #d4ebff;}#sk-container-id-2 div.sk-parallel-item::after {content: \"\";width: 100%;border-bottom: 1px solid gray;flex-grow: 1;}#sk-container-id-2 div.sk-label:hover label.sk-toggleable__label {background-color: #d4ebff;}#sk-container-id-2 div.sk-serial::before {content: \"\";position: absolute;border-left: 1px solid gray;box-sizing: border-box;top: 0;bottom: 0;left: 50%;z-index: 0;}#sk-container-id-2 div.sk-serial {display: flex;flex-direction: column;align-items: center;background-color: white;padding-right: 0.2em;padding-left: 0.2em;position: relative;}#sk-container-id-2 div.sk-item {position: relative;z-index: 1;}#sk-container-id-2 div.sk-parallel {display: flex;align-items: stretch;justify-content: center;background-color: white;position: relative;}#sk-container-id-2 div.sk-item::before, #sk-container-id-2 div.sk-parallel-item::before {content: \"\";position: absolute;border-left: 1px solid gray;box-sizing: border-box;top: 0;bottom: 0;left: 50%;z-index: -1;}#sk-container-id-2 div.sk-parallel-item {display: flex;flex-direction: column;z-index: 1;position: relative;background-color: white;}#sk-container-id-2 div.sk-parallel-item:first-child::after {align-self: flex-end;width: 50%;}#sk-container-id-2 div.sk-parallel-item:last-child::after {align-self: flex-start;width: 50%;}#sk-container-id-2 div.sk-parallel-item:only-child::after {width: 0;}#sk-container-id-2 div.sk-dashed-wrapped {border: 1px dashed gray;margin: 0 0.4em 0.5em 0.4em;box-sizing: border-box;padding-bottom: 0.4em;background-color: white;}#sk-container-id-2 div.sk-label label {font-family: monospace;font-weight: bold;display: inline-block;line-height: 1.2em;}#sk-container-id-2 div.sk-label-container {text-align: center;}#sk-container-id-2 div.sk-container {/* jupyter's `normalize.less` sets `[hidden] { display: none; }` but bootstrap.min.css set `[hidden] { display: none !important; }` so we also need the `!important` here to be able to override the default hidden behavior on the sphinx rendered scikit-learn.org. See: https://github.com/scikit-learn/scikit-learn/issues/21755 */display: inline-block !important;position: relative;}#sk-container-id-2 div.sk-text-repr-fallback {display: none;}</style><div id=\"sk-container-id-2\" class=\"sk-top-container\"><div class=\"sk-text-repr-fallback\"><pre>Ridge(alpha=10, max_iter=1000, random_state=42)</pre><b>In a Jupyter environment, please rerun this cell to show the HTML representation or trust the notebook. <br />On GitHub, the HTML representation is unable to render, please try loading this page with nbviewer.org.</b></div><div class=\"sk-container\" hidden><div class=\"sk-item\"><div class=\"sk-estimator sk-toggleable\"><input class=\"sk-toggleable__control sk-hidden--visually\" id=\"sk-estimator-id-2\" type=\"checkbox\" checked><label for=\"sk-estimator-id-2\" class=\"sk-toggleable__label sk-toggleable__label-arrow\">Ridge</label><div class=\"sk-toggleable__content\"><pre>Ridge(alpha=10, max_iter=1000, random_state=42)</pre></div></div></div></div></div>"
            ],
            "text/plain": [
              "Ridge(alpha=10, max_iter=1000, random_state=42)"
            ]
          },
          "execution_count": 114,
          "metadata": {},
          "output_type": "execute_result"
        }
      ],
      "source": [
        "ridge_reg = Ridge(alpha=best_alpha, max_iter=1000, random_state=42)\n",
        "ridge_reg.fit(X_train, y_train)"
      ]
    },
    {
      "cell_type": "markdown",
      "id": "e567489f-e795-4422-a5d0-80ecb32f76ff",
      "metadata": {
        "id": "e567489f-e795-4422-a5d0-80ecb32f76ff"
      },
      "source": [
        "Посмотрите на веса полученной модели. Какой вывод можно сделать?"
      ]
    },
    {
      "cell_type": "raw",
      "id": "a048fe85-b77c-4f60-90b7-fa73ab41da00",
      "metadata": {
        "id": "a048fe85-b77c-4f60-90b7-fa73ab41da00"
      },
      "source": [
        "### Ваш вывод здесь ###\n"
      ]
    },
    {
      "cell_type": "code",
      "execution_count": 116,
      "id": "1e1cd493",
      "metadata": {},
      "outputs": [
        {
          "data": {
            "text/html": [
              "<div>\n",
              "<style scoped>\n",
              "    .dataframe tbody tr th:only-of-type {\n",
              "        vertical-align: middle;\n",
              "    }\n",
              "\n",
              "    .dataframe tbody tr th {\n",
              "        vertical-align: top;\n",
              "    }\n",
              "\n",
              "    .dataframe thead th {\n",
              "        text-align: right;\n",
              "    }\n",
              "</style>\n",
              "<table border=\"1\" class=\"dataframe\">\n",
              "  <thead>\n",
              "    <tr style=\"text-align: right;\">\n",
              "      <th></th>\n",
              "      <th>feateures</th>\n",
              "      <th>coef</th>\n",
              "    </tr>\n",
              "  </thead>\n",
              "  <tbody>\n",
              "    <tr>\n",
              "      <th>50</th>\n",
              "      <td>KitchenQual_Ex</td>\n",
              "      <td>27180.465349</td>\n",
              "    </tr>\n",
              "    <tr>\n",
              "      <th>6</th>\n",
              "      <td>GrLivArea</td>\n",
              "      <td>22095.897667</td>\n",
              "    </tr>\n",
              "    <tr>\n",
              "      <th>1</th>\n",
              "      <td>OverallQual</td>\n",
              "      <td>21158.264368</td>\n",
              "    </tr>\n",
              "    <tr>\n",
              "      <th>97</th>\n",
              "      <td>DateSold_7/2007</td>\n",
              "      <td>15212.785120</td>\n",
              "    </tr>\n",
              "    <tr>\n",
              "      <th>22</th>\n",
              "      <td>ExterQual_Ex</td>\n",
              "      <td>13590.278486</td>\n",
              "    </tr>\n",
              "    <tr>\n",
              "      <th>...</th>\n",
              "      <td>...</td>\n",
              "      <td>...</td>\n",
              "    </tr>\n",
              "    <tr>\n",
              "      <th>52</th>\n",
              "      <td>KitchenQual_Gd</td>\n",
              "      <td>-8271.895437</td>\n",
              "    </tr>\n",
              "    <tr>\n",
              "      <th>25</th>\n",
              "      <td>ExterQual_TA</td>\n",
              "      <td>-10511.013384</td>\n",
              "    </tr>\n",
              "    <tr>\n",
              "      <th>14</th>\n",
              "      <td>BldgType_Twnhs</td>\n",
              "      <td>-10933.098314</td>\n",
              "    </tr>\n",
              "    <tr>\n",
              "      <th>53</th>\n",
              "      <td>KitchenQual_TA</td>\n",
              "      <td>-12905.769212</td>\n",
              "    </tr>\n",
              "    <tr>\n",
              "      <th>56</th>\n",
              "      <td>DateSold_1/2008</td>\n",
              "      <td>-15416.083556</td>\n",
              "    </tr>\n",
              "  </tbody>\n",
              "</table>\n",
              "<p>115 rows × 2 columns</p>\n",
              "</div>"
            ],
            "text/plain": [
              "          feateures          coef\n",
              "50   KitchenQual_Ex  27180.465349\n",
              "6         GrLivArea  22095.897667\n",
              "1       OverallQual  21158.264368\n",
              "97  DateSold_7/2007  15212.785120\n",
              "22     ExterQual_Ex  13590.278486\n",
              "..              ...           ...\n",
              "52   KitchenQual_Gd  -8271.895437\n",
              "25     ExterQual_TA -10511.013384\n",
              "14   BldgType_Twnhs -10933.098314\n",
              "53   KitchenQual_TA -12905.769212\n",
              "56  DateSold_1/2008 -15416.083556\n",
              "\n",
              "[115 rows x 2 columns]"
            ]
          },
          "execution_count": 116,
          "metadata": {},
          "output_type": "execute_result"
        }
      ],
      "source": [
        "pd.DataFrame({'feateures': X_train.columns,\"coef\": ridge_reg.coef_}).sort_values(by='coef', ascending=False)"
      ]
    },
    {
      "cell_type": "markdown",
      "id": "d6ca7e16-9755-4e68-88e2-927712c24126",
      "metadata": {
        "id": "d6ca7e16-9755-4e68-88e2-927712c24126",
        "tags": []
      },
      "source": [
        "## Задание 6\n",
        "\n",
        "Ответьте на следующие вопросы:\n",
        "\n",
        "1. В последней обученной модели выберите три признака с наибольшими положительными коэффициентами. Можно ли утверждать, что чем больше значения этих признаков, тем больше сумма сделки?"
      ]
    },
    {
      "cell_type": "raw",
      "id": "e9c4ec6c-6169-4b0e-8bca-bcd9bfc30601",
      "metadata": {
        "id": "e9c4ec6c-6169-4b0e-8bca-bcd9bfc30601"
      },
      "source": [
        "### Ваш вывод здесь ###\n",
        "Да"
      ]
    },
    {
      "cell_type": "markdown",
      "id": "ea281704-3792-4ce0-ad1a-3102071ebf76",
      "metadata": {
        "id": "ea281704-3792-4ce0-ad1a-3102071ebf76"
      },
      "source": [
        "2. В последней обученной модели выберите три признака с наибольшими отрицательными коэффициентами. Можно ли утверждать, что чем больше значения этих признаков, тем меньше сумма сделки?"
      ]
    },
    {
      "cell_type": "raw",
      "id": "c360fdc7-6860-46c8-98bc-3ffc9198a8ac",
      "metadata": {
        "id": "c360fdc7-6860-46c8-98bc-3ffc9198a8ac"
      },
      "source": [
        "### Ваш вывод здесь ###\n",
        "Да"
      ]
    },
    {
      "cell_type": "markdown",
      "id": "72c5cd88-4271-49fd-8aab-3c86855091a4",
      "metadata": {
        "id": "72c5cd88-4271-49fd-8aab-3c86855091a4"
      },
      "source": [
        "3. В модели Lasso выберите три признака с нулевыми коэффициентами. Как вы думаете, почему модель их исключила? Можно ли смело утверждать, что сумма сделки от этих признаков не зависит?"
      ]
    },
    {
      "cell_type": "raw",
      "id": "992b7707-c54f-4dbe-92dd-12d63fc917ee",
      "metadata": {
        "id": "992b7707-c54f-4dbe-92dd-12d63fc917ee"
      },
      "source": [
        "### Ваш вывод здесь ###\n"
      ]
    },
    {
      "cell_type": "markdown",
      "id": "79f05e78-ec1c-4116-9217-24066dd9a53d",
      "metadata": {
        "id": "79f05e78-ec1c-4116-9217-24066dd9a53d"
      },
      "source": [
        "## Заключение\n",
        "\n",
        "В этом модуле с помощью регуляризации вы научились обучать модели линейной регрессии с регуляризацией, подбирать коэффициент регуляризации alpha, а также отбирать признаки с помощью L1-регуляризации. "
      ]
    }
  ],
  "metadata": {
    "colab": {
      "provenance": []
    },
    "kernelspec": {
      "display_name": "Python 3 (ipykernel)",
      "language": "python",
      "name": "python3"
    },
    "language_info": {
      "codemirror_mode": {
        "name": "ipython",
        "version": 3
      },
      "file_extension": ".py",
      "mimetype": "text/x-python",
      "name": "python",
      "nbconvert_exporter": "python",
      "pygments_lexer": "ipython3",
      "version": "3.11.7"
    }
  },
  "nbformat": 4,
  "nbformat_minor": 5
}
